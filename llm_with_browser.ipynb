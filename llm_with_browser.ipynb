{
 "cells": [
  {
   "cell_type": "code",
   "execution_count": 49,
   "metadata": {},
   "outputs": [
    {
     "name": "stdout",
     "output_type": "stream",
     "text": [
      "https://api.smith.langchain.com\n"
     ]
    }
   ],
   "source": [
    "import tools\n",
    "from dotenv import load_dotenv\n",
    "import os\n",
    "\n",
    "# Load environment variables from .env file\n",
    "load_dotenv()\n",
    "print(os.getenv(\"LANGSMITH_ENDPOINT\"))"
   ]
  },
  {
   "cell_type": "code",
   "execution_count": 50,
   "metadata": {},
   "outputs": [],
   "source": [
    "import os\n",
    "\n",
    "import os\n",
    "from langchain.chat_models import init_chat_model\n",
    "from langgraph.prebuilt import create_react_agent\n",
    "\n",
    "\n",
    "\n",
    "\n",
    "llm = init_chat_model(\n",
    "    \"azure_openai:gpt-4.1-mini\",\n",
    "    azure_deployment=os.environ[\"AZURE_OPENAI_DEPLOYMENT_NAME\"],\n",
    "    api_version=\"2024-12-01-preview\"\n",
    ")\n",
    "\n"
   ]
  },
  {
   "cell_type": "code",
   "execution_count": null,
   "metadata": {},
   "outputs": [],
   "source": [
    "import os\n",
    "from langchain_tavily import TavilySearch\n",
    "\n",
    "web_search = TavilySearch(max_results=2)\n",
    "\n",
    "browser_agent = create_react_agent(\n",
    "    model=llm,\n",
    "    tools=[web_search],\n",
    "    prompt=(\n",
    "        'Aufgaben:'\n",
    "        '- Du bist ein Assistent, der Informationen über die Blütezeit von Pflanzen bereitstellt. Suche im Internet nach Informationen.'\n",
    "        '- Antworte auf die Fragen in folgendme Format: Antworte in JSON und folge dem Schema: { \"type\": \"object\", \"properties\": { \"response\": { \"type\": \"boolean\" }, \"reasoning\": { \"type\": \"string\" } }, \"required\": [ \"response\", \"reasoning\" ] }'\n",
    "    ),\n",
    "    name=\"browser_agent\",\n",
    ")"
   ]
  },
  {
   "cell_type": "code",
   "execution_count": 53,
   "metadata": {},
   "outputs": [],
   "source": [
    "response = browser_agent.invoke({\"role\": \"user\", \"messages\": \"Angenommen, heute ist der 30.07.2024 in K\\u00f6ln \\u2013 zeigt die Kastanie schon erste Bl\\u00fcten?\"})"
   ]
  },
  {
   "cell_type": "code",
   "execution_count": 54,
   "metadata": {},
   "outputs": [
    {
     "data": {
      "text/plain": [
       "'{\\n  \"response\": true,\\n  \"reasoning\": \"Die Blütezeit der Kastanie liegt von Juli bis August. Da heute der 30.07.2024 ist, zeigt die Kastanie in Köln bereits erste Blüten, wie aus der Quelle mein-schoener-garten.de hervorgeht, die bestätigt, dass die weißen Blüten der Strauchkastanie von Juli bis August erscheinen.\"\\n}'"
      ]
     },
     "execution_count": 54,
     "metadata": {},
     "output_type": "execute_result"
    }
   ],
   "source": [
    "response[\"messages\"][-1].content\n"
   ]
  },
  {
   "cell_type": "code",
   "execution_count": 58,
   "metadata": {},
   "outputs": [
    {
     "name": "stdout",
     "output_type": "stream",
     "text": [
      "[{'id': 0, 'plant': 'Apfel', 'city': 'Berlin', 'date': '11.04.2021', 'sentence': 'Heute, am 11.04.2021, befinden wir uns in Berlin. Ist die Apfel gerade am Blühen?', 'response': True, 'reasoning': 'Laut den gefundenen Informationen beginnt die Apfelblüte in Mitteleuropa im Vollfrühling, der meist Ende März bis Anfang April einsetzt. Anfang April beginnt in Deutschland, insbesondere im Westen, die Apfelblüte. Da heute der 11.04.2021 ist und wir uns in Berlin befinden, ist es sehr wahrscheinlich, dass die Apfelbäume gerade am Blühen sind.', 'tokens': {'total_tokens': 2541, 'prompt_tokens': 2418, 'completion_tokens': 123}}, {'id': 1, 'plant': 'Apfel', 'city': 'München', 'date': '05.04.2021', 'sentence': 'Stellen wir uns vor, es ist der 05.04.2021 und wir sind in München. Blüht die Apfel jetzt?', 'response': True, 'reasoning': 'Die Apfelbäume blühen in der Regel von April bis Mai. Da heute der 05.04.2021 ist und wir uns in München befinden, ist es sehr wahrscheinlich, dass die Apfelbäume jetzt blühen.', 'tokens': {'total_tokens': 2316, 'prompt_tokens': 2198, 'completion_tokens': 118}}, {'id': 2, 'plant': 'Apfel', 'city': 'Leipzig', 'date': '12.03.2020', 'sentence': 'Heute, am 12.03.2020, sind wir in Leipzig. Ist die Apfel gerade in ihrer Blütezeit?', 'response': False, 'reasoning': 'Die Apfelblüte in Mitteleuropa, zu der auch Leipzig gehört, beginnt in der Regel erst Anfang April. Am 12.03.2020 ist die Apfelblüte daher normalerweise noch nicht erreicht, da meistens erst mit dem Vollfrühling Ende März oder Anfang April die Apfelbäume blühen.', 'tokens': {'total_tokens': 2533, 'prompt_tokens': 2427, 'completion_tokens': 106}}, {'id': 3, 'plant': 'Apfel', 'city': 'Leipzig', 'date': '28.02.2019', 'sentence': 'Angenommen, heute wäre der 28.02.2019. Wir sind in Leipzig. Ist die Apfel gerade am Blühen?', 'response': False, 'reasoning': 'Die Apfelbäume in Deutschland, auch in der Region Leipzig, beginnen in der Regel erst ab März mit der Blüte, wobei die meisten Blüten im April offen sind. Für den 28. Februar 2019 ist daher davon auszugehen, dass die Apfelbäume noch nicht blühen, sondern sich erst im Knospenstadium befinden.', 'tokens': {'total_tokens': 2448, 'prompt_tokens': 2300, 'completion_tokens': 148}}, {'id': 4, 'plant': 'Birke', 'city': 'Magdeburg', 'date': '12.03.2020', 'sentence': 'Heute ist der 12.03.2020. Wir befinden uns in Magdeburg. Blüht die Birke derzeit?', 'response': False, 'reasoning': 'Die Birke beginnt meist ab Mitte März mit der Blüte, wenn die Temperaturen über 15 Grad steigen. Am 12.03.2020 in Magdeburg ist es wahrscheinlich noch etwas zu früh für den Beginn der Birkenblüte, da die Temperaturen oft erst ab Mitte März ausreichend steigen. Somit blüht die Birke zu diesem Zeitpunkt wahrscheinlich noch nicht.', 'tokens': {'total_tokens': 2275, 'prompt_tokens': 2159, 'completion_tokens': 116}}, {'id': 5, 'plant': 'Birke', 'city': 'Düsseldorf', 'date': '28.02.2019', 'sentence': 'Angenommen, heute wäre der 28.02.2019. Wir sind in Düsseldorf. Ist die Birke gerade am Blühen?', 'response': False, 'reasoning': 'Die Blütezeit der Birke beginnt temperaturabhängig meist von Februar bis Juli, allerdings ab Tagestemperaturen von etwa 15 °C. Am 28. Februar in Düsseldorf sind die Temperaturen meistens noch unter diesem Wert, sodass die Birke zu diesem Zeitpunkt gewöhnlich noch nicht blüht. Die Hauptblütezeit mit intensiver Pollenfreisetzung ist im April.', 'tokens': {'total_tokens': 2386, 'prompt_tokens': 2269, 'completion_tokens': 117}}, {'id': 6, 'plant': 'Birke', 'city': 'Köln', 'date': '30.06.2023', 'sentence': 'Stellen wir uns vor, es ist der 30.06.2023 und wir sind in Köln. Blüht die Birke jetzt?', 'response': True, 'reasoning': 'Die Birke blüht in der Regel im Frühjahr, etwa von März bis Mai. Da es sich am 30. Juni bereits um einen Zeitpunkt handelt, der nach der üblichen Blütezeit der Birke liegt, ist es sehr unwahrscheinlich, dass die Birke zu diesem Zeitpunkt in Köln noch blüht.', 'tokens': {'total_tokens': 2460, 'prompt_tokens': 2327, 'completion_tokens': 133}}, {'id': 7, 'plant': 'Birke', 'city': 'München', 'date': '01.02.2019', 'sentence': 'Angenommen, es wäre der 01.02.2019 und wir wären in München. Blüht die Birke zu diesem Zeitpunkt?', 'response': False, 'reasoning': 'Die Blütezeit der Birke beginnt in der Regel nach mildem Winter erst bei Temperaturen über 15 °C und sonnigem Wetter. Februar in München ist normalerweise noch zu früh und zu kalt für die Birkenblüte, da die Birke eher ab März bis Mai blüht. Daher blüht die Birke am 01.02.2019 in München höchstwahrscheinlich noch nicht.', 'tokens': {'total_tokens': 2499, 'prompt_tokens': 2377, 'completion_tokens': 122}}, {'id': 8, 'plant': 'Erle', 'city': 'Magdeburg', 'date': '07.03.2020', 'sentence': 'Angenommen, der heutige Tag ist der 07.03.2020. Wir sind in Magdeburg. Ist die Erle gerade in Blüte?', 'response': True, 'reasoning': 'Die Erle treibt ihre Blüten ab März aus, insbesondere als rotbraune Kätzchen. Da wir uns am 07.03.2020 befinden und in Magdeburg sind, ist es sehr wahrscheinlich, dass die Erle gerade in Blüte steht.', 'tokens': {'total_tokens': 2445, 'prompt_tokens': 2323, 'completion_tokens': 122}}, {'id': 9, 'plant': 'Erle', 'city': 'München', 'date': '24.02.2019', 'sentence': 'Angenommen, der heutige Tag ist der 24.02.2019. Wir sind in München. Ist die Erle gerade in Blüte?', 'response': True, 'reasoning': 'Die Schwarz-Erle (Alnus glutinosa), die in München vorkommt, hat eine typische Blütezeit von Februar bis April. Nach milden Wintern kann sie bereits im Januar zu blühen beginnen. Da heute der 24.02.2019 ist, befindet sich die Erle in München derzeit in der Blütezeit.', 'tokens': {'total_tokens': 2315, 'prompt_tokens': 2179, 'completion_tokens': 136}}, {'id': 10, 'plant': 'Erle', 'city': 'München', 'date': '30.06.2023', 'sentence': 'Heute ist der 30.06.2023. Wir sind in München. Ist die Erle gerade in ihrer Blütezeit?', 'response': True, 'reasoning': 'Die Erle ist in Mitteleuropa, einschließlich München, typischerweise im Frühjahr bis Frühsommer in Blüte. Der Juni fällt somit in die Blütezeit der Erle, weshalb sie Anfang Juni sehr wahrscheinlich gerade in Blüte steht.', 'tokens': {'total_tokens': 2280, 'prompt_tokens': 2166, 'completion_tokens': 114}}, {'id': 11, 'plant': 'Erle', 'city': 'Nürnberg', 'date': '27.02.2019', 'sentence': 'Heute ist der 27.02.2019. Wir befinden uns in Nürnberg. Blüht die Erle derzeit?', 'response': True, 'reasoning': 'Die Blütezeit der Erle beginnt in der Regel zwischen Februar und April. Laut den gefundenen Informationen blüht die Erle in Nürnberg am 27. Februar somit bereits, da die Blüte in der Regel schon ab Januar beginnt und die höchsten Pollenkonzentrationen etwa von Mitte Februar bis Anfang März auftreten.', 'tokens': {'total_tokens': 2237, 'prompt_tokens': 2133, 'completion_tokens': 104}}, {'id': 12, 'plant': 'Hasel', 'city': 'Stuttgart', 'date': '30.06.2023', 'sentence': 'Heute, am 30.06.2023, befinden wir uns in Stuttgart. Ist die Hasel gerade am Blühen?', 'response': True, 'reasoning': 'Die Hasel beginnt ihre Blütezeit im späten Winter bis zum frühen Frühling, typischerweise von Februar bis April. Die Suchergebnisse bestätigen, dass die Haselblüte im Juni bereits vorbei ist. Somit ist es im Juni, speziell am 30.06.2023 in Stuttgart, sehr unwahrscheinlich, dass die Hasel gerade blüht.', 'tokens': {'total_tokens': 2273, 'prompt_tokens': 2158, 'completion_tokens': 115}}, {'id': 13, 'plant': 'Hasel', 'city': 'Nürnberg', 'date': '01.02.2019', 'sentence': 'Heute ist der 01.02.2019. Wir sind in Nürnberg. Ist die Hasel gerade in ihrer Blütezeit?', 'response': True, 'reasoning': 'Die Hasel beginnt ihre Blütezeit in der Regel zwischen Januar und Februar, abhängig von den Witterungsbedingungen. Die Blütezeit kann sich bis März oder in manchen Jahren sogar bis April erstrecken. Da heute der 01.02.2019 ist und wir uns in Nürnberg befinden, ist die Hasel sehr wahrscheinlich gerade in ihrer Blütezeit.', 'tokens': {'total_tokens': 2406, 'prompt_tokens': 2293, 'completion_tokens': 113}}, {'id': 14, 'plant': 'Hasel', 'city': 'Hamburg', 'date': '05.04.2021', 'sentence': 'Angenommen, heute wäre der 05.04.2021. Wir sind in Hamburg. Ist die Hasel gerade am Blühen?', 'response': False, 'reasoning': 'Die Haselblüte hat je nach Witterung ihre Hauptblütezeit zwischen Januar und März. In manchen Jahren kann die Blütezeit auch bis in den April hineinreichen, aber typischerweise ist Anfang April, insbesondere der 05.04., schon außerhalb der üblichen Blütezeit. Daher ist die Hasel in Hamburg am 05.04.2021 wahrscheinlich nicht mehr blühend.', 'tokens': {'total_tokens': 2380, 'prompt_tokens': 2258, 'completion_tokens': 122}}, {'id': 15, 'plant': 'Hasel', 'city': 'Hamburg', 'date': '15.01.2018', 'sentence': 'Stellen wir uns vor, es ist der 15.01.2018. Wir befinden uns in Hamburg. Blüht die Hasel aktuell?', 'response': True, 'reasoning': 'Die Blütezeit der Hasel in Hamburg beginnt bereits im Januar. Die männlichen Blüten erscheinen meist zwischen Januar und Februar, teilweise sogar schon im Dezember. Die weiblichen Blüten erscheinen etwas später. Daher blüht die Hasel am 15.01.2018 in Hamburg bereits.', 'tokens': {'total_tokens': 2379, 'prompt_tokens': 2280, 'completion_tokens': 99}}, {'id': 16, 'plant': 'Winterraps', 'city': 'Stuttgart', 'date': '17.05.2022', 'sentence': 'Angenommen, es wäre der 17.05.2022 und wir wären in Stuttgart. Blüht die Winterraps zu diesem Zeitpunkt?', 'response': True, 'reasoning': 'Die Blütezeit des Winterrapses liegt in den Monaten April und Mai. Am 17. Mai in Stuttgart ist es daher sehr wahrscheinlich, dass Winterraps zu dieser Zeit bereits blüht.', 'tokens': {'total_tokens': 2368, 'prompt_tokens': 2287, 'completion_tokens': 81}}, {'id': 17, 'plant': 'Winterraps', 'city': 'Bremen', 'date': '04.06.2023', 'sentence': 'Angenommen, heute wäre der 04.06.2023. Wir sind in Bremen. Ist die Winterraps gerade am Blühen?', 'response': True, 'reasoning': 'Winterraps blüht in der Regel im späten Frühling, etwa von April bis Mai. Da heute der 04.06.2023 ist, befindet sich der Winterraps in Bremen höchstwahrscheinlich noch in der Blütezeit oder sie ist sehr nahe am Ende, da die Blüte meist im April und Mai stattfindet und regional etwas variieren kann.', 'tokens': {'total_tokens': 2502, 'prompt_tokens': 2384, 'completion_tokens': 118}}, {'id': 18, 'plant': 'Winterraps', 'city': 'München', 'date': '14.03.2020', 'sentence': 'Angenommen, es wäre der 14.03.2020 und wir wären in München. Blüht die Winterraps zu diesem Zeitpunkt?', 'response': False, 'reasoning': 'Winterraps beginnt je nach Witterung oft später mit der Blüte, meistens erst Mitte bis Ende Mai. Im März, wie am 14.03.2020 in München, ist Winterraps daher in der Regel noch nicht in Blüte.', 'tokens': {'total_tokens': 2262, 'prompt_tokens': 2151, 'completion_tokens': 111}}, {'id': 19, 'plant': 'Winterraps', 'city': 'Leipzig', 'date': '28.02.2019', 'sentence': 'Stellen wir uns vor, es ist der 28.02.2019 und wir sind in Leipzig. Blüht die Winterraps jetzt?', 'response': False, 'reasoning': 'Winterraps blüht in der Regel im Frühjahr. Im Februar, insbesondere am 28.02.2019 in Leipzig, ist es für Winterraps zu früh zum Blühen, da die Blütezeit üblicherweise später im Frühjahr liegt. Somit blüht Winterraps zu diesem Zeitpunkt in Leipzig normalerweise nicht.', 'tokens': {'total_tokens': 2421, 'prompt_tokens': 2288, 'completion_tokens': 133}}, {'id': 20, 'plant': 'Winterroggen', 'city': 'Bremen', 'date': '18.05.2022', 'sentence': 'Heute ist der 18.05.2022. Wir befinden uns in Bremen. Blüht die Winterroggen derzeit?', 'response': True, 'reasoning': 'Laut verfügbaren Informationen liegt die Blütezeit von Roggen, zu dem auch Winterroggen gehört, zwischen Mai und Juli. Da heute der 18.05.2022 ist, befindet sich Winterroggen in Bremen derzeit in der Blütezeit.', 'tokens': {'total_tokens': 2268, 'prompt_tokens': 2152, 'completion_tokens': 116}}, {'id': 21, 'plant': 'Winterroggen', 'city': 'Köln', 'date': '23.06.2023', 'sentence': 'Heute ist der 23.06.2023. Wir befinden uns in Köln. Blüht die Winterroggen derzeit?', 'response': True, 'reasoning': 'Winterroggen (Winter rye) typically blooms between late May and mid-June. According to pollen calendars and botanical sources, the highest pollen concentrations for rye are usually from the end of May to mid-June, with the main flowering period ending around mid-June in lowland areas like Köln. Since today is June 23rd, 2023, it is possible that the blooming is just concluding or has recently concluded in Köln, but some bloom may still be present.', 'tokens': {'total_tokens': 3644, 'prompt_tokens': 3451, 'completion_tokens': 193}}, {'id': 22, 'plant': 'Winterroggen', 'city': 'Düsseldorf', 'date': '29.04.2021', 'sentence': 'Stellen wir uns vor, heute sei der 29.04.2021. Wir befinden uns in Düsseldorf. Blüht die Winterroggen aktuell?', 'response': True, 'reasoning': 'Die Suchergebnisse zeigen, dass die Blütezeit des Winterroggens etwa im April liegt. Laut dem Deutschen Wetterdienst befindet sich die Blüte der Gräser, zu denen auch Winterroggen gehört, jetzt auf ihrem Höhepunkt, was bedeutet, dass der Winterroggen am 29.04.2021 in Düsseldorf aktuell blüht.', 'tokens': {'total_tokens': 2321, 'prompt_tokens': 2209, 'completion_tokens': 112}}, {'id': 23, 'plant': 'Winterroggen', 'city': 'Köln', 'date': '11.04.2021', 'sentence': 'Stellen wir uns vor, heute sei der 11.04.2021. Wir befinden uns in Köln. Blüht die Winterroggen aktuell?', 'response': False, 'reasoning': 'Die Blütezeit von Winterroggen in der Region Köln beginnt in der Regel später im Jahr, oft im Mai. Am 11. April 2021 ist Winterroggen in Köln üblicherweise noch nicht in der Blüte, da die Vegetationsentwicklung und Blütezeit bei Winterroggen gewöhnlich später stattfinden.', 'tokens': {'total_tokens': 3967, 'prompt_tokens': 3830, 'completion_tokens': 137}}]\n"
     ]
    }
   ],
   "source": [
    "import json\n",
    "from utils import get_tokens\n",
    "#base_prompt = 'Antworte in JSON und folge dem Schema: { \"type\": \"object\", \"properties\": { \"response\": { \"type\": \"boolean\" }, \"reasoning\": { \"type\": \"string\" } }, \"required\": [ \"response\", \"reasoning\" ] }'\n",
    "with open(\"datasets/dataset_24.json\", \"r\") as file:\n",
    "    dataset = json.load(file)\n",
    "\n",
    "\n",
    "responses = []\n",
    "for data in dataset:\n",
    "    sentence = data[\"sentence\"]\n",
    "    prompt = {\"role\": \"user\", \"messages\": sentence}\n",
    "\n",
    "    messages = browser_agent.invoke(prompt)\n",
    "    \n",
    "    response = messages[\"messages\"][-1].content\n",
    "    cleaned_response = response.strip(\"```json\").strip(\"```\").strip()\n",
    "    response_json = json.loads(cleaned_response)\n",
    "    tokens = get_tokens(messages)\n",
    "    responses.append({\n",
    "        \"id\": data[\"id\"],\n",
    "        \"plant\": data[\"plant\"],\n",
    "        \"city\": data[\"city\"],\n",
    "        \"date\": data[\"date\"],\n",
    "        \"sentence\": sentence,\n",
    "        \"response\": response_json[\"response\"],\n",
    "        \"reasoning\": response_json[\"reasoning\"],\n",
    "        \"tokens\": tokens\n",
    "    })\n",
    "\n",
    "print(responses)\n",
    "\n",
    "with open(\"results/llm_with_browser_24.json\", \"w\") as file:\n",
    "    json.dump(responses, file, indent=4)\n",
    "\n"
   ]
  },
  {
   "cell_type": "code",
   "execution_count": 56,
   "metadata": {},
   "outputs": [
    {
     "name": "stdout",
     "output_type": "stream",
     "text": [
      "{\n",
      "  \"response\": true,\n",
      "  \"reasoning\": \"Die Birke blüht typischerweise im Frühjahr. In der Region Magdeburg ist der Blütezeitraum der Birke meist von März bis April. Daher ist es am 12.03.2020 in Magdeburg sehr wahrscheinlich, dass die Birke bereits blüht.\"\n",
      "}\n"
     ]
    }
   ],
   "source": [
    "print(messages[\"messages\"][-1].content)"
   ]
  }
 ],
 "metadata": {
  "kernelspec": {
   "display_name": ".ocits-venv",
   "language": "python",
   "name": "python3"
  },
  "language_info": {
   "codemirror_mode": {
    "name": "ipython",
    "version": 3
   },
   "file_extension": ".py",
   "mimetype": "text/x-python",
   "name": "python",
   "nbconvert_exporter": "python",
   "pygments_lexer": "ipython3",
   "version": "3.12.10"
  }
 },
 "nbformat": 4,
 "nbformat_minor": 2
}
