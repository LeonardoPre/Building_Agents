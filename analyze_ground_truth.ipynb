{
 "cells": [
  {
   "cell_type": "code",
   "execution_count": 10,
   "metadata": {},
   "outputs": [],
   "source": [
    "import json\n",
    "from answer import Answer\n",
    "\n",
    "\n",
    "with open('ground_truth/ground_truth_850_dev_10.json', 'r') as f:\n",
    "    data = json.load(f)"
   ]
  },
  {
   "cell_type": "code",
   "execution_count": 11,
   "metadata": {},
   "outputs": [
    {
     "name": "stdout",
     "output_type": "stream",
     "text": [
      "Yes: 889, No: 911, No Answer: 750\n"
     ]
    }
   ],
   "source": [
    "yes_count = 0\n",
    "no_count = 0\n",
    "x_count = 0\n",
    "\n",
    "for entry in data:\n",
    "    if entry['is_blooming'] == Answer.YES:\n",
    "        yes_count += 1\n",
    "    elif entry['is_blooming'] == Answer.NO:\n",
    "        no_count += 1\n",
    "    elif entry['is_blooming'] == Answer.NO_ANSWER:\n",
    "        x_count += 1\n",
    "\n",
    "print(f\"Yes: {yes_count}, No: {no_count}, No Answer: {x_count}\")\n"
   ]
  }
 ],
 "metadata": {
  "kernelspec": {
   "display_name": ".ocits-venv",
   "language": "python",
   "name": "python3"
  },
  "language_info": {
   "codemirror_mode": {
    "name": "ipython",
    "version": 3
   },
   "file_extension": ".py",
   "mimetype": "text/x-python",
   "name": "python",
   "nbconvert_exporter": "python",
   "pygments_lexer": "ipython3",
   "version": "3.12.10"
  }
 },
 "nbformat": 4,
 "nbformat_minor": 2
}
