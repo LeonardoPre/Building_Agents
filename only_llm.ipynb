{
 "cells": [
  {
   "cell_type": "code",
   "execution_count": 27,
   "metadata": {},
   "outputs": [
    {
     "name": "stdout",
     "output_type": "stream",
     "text": [
      "https://api.smith.langchain.com\n"
     ]
    }
   ],
   "source": [
    "import tools\n",
    "from dotenv import load_dotenv\n",
    "import os\n",
    "\n",
    "# Load environment variables from .env file\n",
    "load_dotenv()\n",
    "print(os.getenv(\"LANGSMITH_ENDPOINT\"))"
   ]
  },
  {
   "cell_type": "code",
   "execution_count": 28,
   "metadata": {},
   "outputs": [],
   "source": [
    "import os\n",
    "\n",
    "import os\n",
    "from langchain.chat_models import init_chat_model\n",
    "\n",
    "\n",
    "\n",
    "llm = init_chat_model(\n",
    "    \"azure_openai:gpt-4.1-mini\",\n",
    "    azure_deployment=os.environ[\"AZURE_OPENAI_DEPLOYMENT_NAME\"],\n",
    "    api_version=\"2024-12-01-preview\"\n",
    ")\n",
    "\n"
   ]
  },
  {
   "cell_type": "code",
   "execution_count": 29,
   "metadata": {},
   "outputs": [],
   "source": [
    "os.environ[\"LANGSMITH_API_KEY\"] = \"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\"\n",
    "os.environ[\"LANGSMITH_TRACING\"] = \"true\"\n",
    "os.environ[\"LANGSMITH_PROJECT\"] = \"ocits\"\n",
    "#llm.invoke(\"Hello world\")"
   ]
  },
  {
   "cell_type": "code",
   "execution_count": 30,
   "metadata": {},
   "outputs": [
    {
     "name": "stdout",
     "output_type": "stream",
     "text": [
      "[{'id': 0, 'plant': 'Apfel', 'city': 'Berlin', 'date': '11.04.2021', 'sentence': 'Heute, am 11.04.2021, befinden wir uns in Berlin. Ist die Apfel gerade am Blühen?', 'response': True, 'reasoning': 'In Berlin, Apfelbäume (Malus domestica) blühen typischerweise im April. Mitte April, einschließlich dem 11.04.2021, ist die Zeit der Apfelblüte in der Regel erreicht oder gerade im Gange, da die Temperaturen und Tageslichtverhältnisse im Frühling dies fördern.', 'tokens': {'completion_tokens': 87, 'prompt_tokens': 93, 'total_tokens': 180}}, {'id': 1, 'plant': 'Apfel', 'city': 'München', 'date': '05.04.2021', 'sentence': 'Stellen wir uns vor, es ist der 05.04.2021 und wir sind in München. Blüht die Apfel jetzt?', 'response': True, 'reasoning': 'Am 05.04.2021 in München befindet sich der Apfelbaum typischerweise in der Blütephase. In Mitteleuropa blühen Apfelbäume normalerweise von Ende März bis Mitte April, abhängig von den Witterungsbedingungen im Frühjahr. Da München ein gemäßigtes Klima hat und Anfang April meist milde Temperaturen herrschen, ist es sehr wahrscheinlich, dass die Apfelbäume zu diesem Zeitpunkt bereits Blüten zeigen.', 'tokens': {'completion_tokens': 111, 'prompt_tokens': 96, 'total_tokens': 207}}, {'id': 2, 'plant': 'Apfel', 'city': 'Leipzig', 'date': '12.03.2020', 'sentence': 'Heute, am 12.03.2020, sind wir in Leipzig. Ist die Apfel gerade in ihrer Blütezeit?', 'response': True, 'reasoning': 'In Leipzig, die Apfelblüte beginnt typischerweise Mitte bis Ende März und dauert bis Anfang April. Am 12.03.2020 befinden wir uns am Anfang dieses Zeitraums, sodass die Apfelbäume gerade beginnen zu blühen.', 'tokens': {'completion_tokens': 72, 'prompt_tokens': 93, 'total_tokens': 165}}, {'id': 3, 'plant': 'Apfel', 'city': 'Leipzig', 'date': '28.02.2019', 'sentence': 'Angenommen, heute wäre der 28.02.2019. Wir sind in Leipzig. Ist die Apfel gerade am Blühen?', 'response': False, 'reasoning': 'Am 28. Februar 2019 ist es in Leipzig in der Regel noch zu früh für Apfelbäume zu blühen. Die Apfelblüte findet normalerweise im April statt, wenn die Temperaturen steigen und die Frostgefahr zurückgeht. Ende Februar befinden sich die Apfelbäume meist noch in der Winterruhe oder beginnen gerade erst mit dem Austrieb der Knospen.', 'tokens': {'completion_tokens': 98, 'prompt_tokens': 96, 'total_tokens': 194}}, {'id': 4, 'plant': 'Birke', 'city': 'Magdeburg', 'date': '12.03.2020', 'sentence': 'Heute ist der 12.03.2020. Wir befinden uns in Magdeburg. Blüht die Birke derzeit?', 'response': True, 'reasoning': 'Am 12. März befinden wir uns im frühen Frühling in Magdeburg. Birken beginnen typischerweise im März mit dem Blühen, da sie zu den Frühblühern gehören. Die Blütezeit der Birke erstreckt sich etwa von März bis April, daher ist es sehr wahrscheinlich, dass die Birke zu diesem Zeitpunkt bereits blüht.', 'tokens': {'completion_tokens': 95, 'prompt_tokens': 93, 'total_tokens': 188}}, {'id': 5, 'plant': 'Birke', 'city': 'Düsseldorf', 'date': '28.02.2019', 'sentence': 'Angenommen, heute wäre der 28.02.2019. Wir sind in Düsseldorf. Ist die Birke gerade am Blühen?', 'response': False, 'reasoning': 'Am 28. Februar 2019 ist es in Düsseldorf in der Regel noch zu früh für die Birkenblüte. Birken blühen typischerweise im Frühling, meistens ab Mitte März bis April, je nach Witterung. Ende Februar sind die Temperaturen meist noch zu niedrig, und die Birken stehen meist noch ohne Blüten.', 'tokens': {'completion_tokens': 90, 'prompt_tokens': 96, 'total_tokens': 186}}, {'id': 6, 'plant': 'Birke', 'city': 'Köln', 'date': '30.06.2023', 'sentence': 'Stellen wir uns vor, es ist der 30.06.2023 und wir sind in Köln. Blüht die Birke jetzt?', 'response': False, 'reasoning': 'Am 30.06.2023 in Köln ist die Birke typischerweise nicht mehr in der Blüte. Die Birke blüht normalerweise im Frühjahr, meist von März bis April, je nach Wetterlage und Standort. Ende Juni sind die Birkenpollen bereits vorbei, und die Bäume haben sich in die Blattwachstumsphase begeben.', 'tokens': {'completion_tokens': 93, 'prompt_tokens': 96, 'total_tokens': 189}}, {'id': 7, 'plant': 'Birke', 'city': 'München', 'date': '01.02.2019', 'sentence': 'Angenommen, es wäre der 01.02.2019 und wir wären in München. Blüht die Birke zu diesem Zeitpunkt?', 'response': False, 'reasoning': 'Am 01.02.2019 ist in München normalerweise noch Winter. Die Birke beginnt typischerweise erst ab etwa März mit der Blüte, wenn Temperaturen steigen und sich der Frühling ankündigt. Im Februar ist die Birke daher noch nicht in Blüte.', 'tokens': {'completion_tokens': 75, 'prompt_tokens': 96, 'total_tokens': 171}}, {'id': 8, 'plant': 'Erle', 'city': 'Magdeburg', 'date': '07.03.2020', 'sentence': 'Angenommen, der heutige Tag ist der 07.03.2020. Wir sind in Magdeburg. Ist die Erle gerade in Blüte?', 'response': False, 'reasoning': 'Die Erle (Alnus) blüht in der Regel von Ende Februar bis Anfang April. Am 07.03.2020 in Magdeburg befinden wir uns zwar im Blütezeitraum, allerdings beginnt die Erle meist erst im späteren März richtig zu blühen. Anfang März sind erste Blütenansätze möglich, eine volle Blüte ist jedoch eher Ende März bis Anfang April zu erwarten. Daher ist die Erle zum genannten Datum wahrscheinlich noch nicht in voller Blüte.', 'tokens': {'completion_tokens': 119, 'prompt_tokens': 100, 'total_tokens': 219}}, {'id': 9, 'plant': 'Erle', 'city': 'München', 'date': '24.02.2019', 'sentence': 'Angenommen, der heutige Tag ist der 24.02.2019. Wir sind in München. Ist die Erle gerade in Blüte?', 'response': False, 'reasoning': 'Die Erle blüht typischerweise zwischen Februar und März. Am 24.02. kann es zwar je nach Wetterlage bereits einzelne Blütenstände geben, aber in München ist die Erle um diese Zeit meist noch nicht voll in Blüte, da die Temperaturen oft noch zu niedrig sind. Vollständige Blüte tritt meist etwas später im Frühjahr auf.', 'tokens': {'completion_tokens': 93, 'prompt_tokens': 98, 'total_tokens': 191}}, {'id': 10, 'plant': 'Erle', 'city': 'München', 'date': '30.06.2023', 'sentence': 'Heute ist der 30.06.2023. Wir sind in München. Ist die Erle gerade in ihrer Blütezeit?', 'response': False, 'reasoning': 'Die Erle (Alnus) blüht im Frühjahr, typischerweise von März bis Mai. Am 30. Juni in München liegt die Blütezeit der Erle bereits hinter uns, daher befindet sie sich nicht mehr in ihrer Blütezeit.', 'tokens': {'completion_tokens': 71, 'prompt_tokens': 93, 'total_tokens': 164}}, {'id': 11, 'plant': 'Erle', 'city': 'Nürnberg', 'date': '27.02.2019', 'sentence': 'Heute ist der 27.02.2019. Wir befinden uns in Nürnberg. Blüht die Erle derzeit?', 'response': True, 'reasoning': 'In Nürnberg, Erlen (Alnus) beginnen typischerweise Ende Februar bis Anfang März zu blühen, besonders bei milden Temperaturen. Am 27.02.2019 sind die Bedingungen im Spätwinter oft bereits mild genug, sodass die Erlen gerade mit dem Blühen begonnen haben oder kurz davor stehen. Erlen gehören zu den frühblühenden Bäumen im Jahr, deren Blütezeit oft im späten Winter liegt.', 'tokens': {'completion_tokens': 110, 'prompt_tokens': 91, 'total_tokens': 201}}, {'id': 12, 'plant': 'Hasel', 'city': 'Stuttgart', 'date': '30.06.2023', 'sentence': 'Heute, am 30.06.2023, befinden wir uns in Stuttgart. Ist die Hasel gerade am Blühen?', 'response': False, 'reasoning': 'Die Hasel blüht typischerweise im späten Winter bis frühen Frühling, meist von Januar bis März. Ende Juni, speziell am 30.06.2023, ist die Blütezeit der Hasel in Stuttgart bereits lange vorbei.', 'tokens': {'completion_tokens': 70, 'prompt_tokens': 93, 'total_tokens': 163}}, {'id': 13, 'plant': 'Hasel', 'city': 'Nürnberg', 'date': '01.02.2019', 'sentence': 'Heute ist der 01.02.2019. Wir sind in Nürnberg. Ist die Hasel gerade in ihrer Blütezeit?', 'response': True, 'reasoning': 'Die Hasel (Corylus avellana) beginnt in Mitteleuropa typischerweise Ende Januar bis Anfang Februar mit der Blütezeit, je nach Witterung. Am 01.02.2019 in Nürnberg ist die Hasel daher sehr wahrscheinlich gerade in ihrer Blütezeit, da das milde Klima zu dieser Zeit meistens bereits die Blüte fördert.', 'tokens': {'completion_tokens': 95, 'prompt_tokens': 93, 'total_tokens': 188}}, {'id': 14, 'plant': 'Hasel', 'city': 'Hamburg', 'date': '05.04.2021', 'sentence': 'Angenommen, heute wäre der 05.04.2021. Wir sind in Hamburg. Ist die Hasel gerade am Blühen?', 'response': True, 'reasoning': 'Am 05.04.2021 befindet sich die Hasel in Hamburg in der Regel in der Blütezeit. Die Haselblüte beginnt meist zwischen Ende Februar und Anfang April und kann je nach Wetterlage bis in den April andauern. Im milden Klima Hamburgs ist es daher sehr wahrscheinlich, dass die Hasel am 5. April gerade am Blühen ist.', 'tokens': {'completion_tokens': 98, 'prompt_tokens': 96, 'total_tokens': 194}}, {'id': 15, 'plant': 'Hasel', 'city': 'Hamburg', 'date': '15.01.2018', 'sentence': 'Stellen wir uns vor, es ist der 15.01.2018. Wir befinden uns in Hamburg. Blüht die Hasel aktuell?', 'response': True, 'reasoning': 'Am 15.01.2018 befindet sich die Hasel in Hamburg typischerweise in der Blütezeit. Die Hasel (Corylus avellana) blüht oft bereits im späten Winter, gewöhnlich von Januar bis März. Die männlichen Kätzchen sind oft ab Januar sichtbar und blühen, um Bestäuber für die Frühsommerfruchtbildung bereitzustellen. Daher ist es sehr wahrscheinlich, dass die Hasel Anfang bis Mitte Januar in Hamburg blüht.', 'tokens': {'completion_tokens': 124, 'prompt_tokens': 97, 'total_tokens': 221}}, {'id': 16, 'plant': 'Winterraps', 'city': 'Stuttgart', 'date': '17.05.2022', 'sentence': 'Angenommen, es wäre der 17.05.2022 und wir wären in Stuttgart. Blüht die Winterraps zu diesem Zeitpunkt?', 'response': False, 'reasoning': 'Winterraps (Winterraps) wird im Herbst ausgesät und blüht in der Regel im Frühjahr, meist zwischen April und Mai. Am 17.05.2022 in Stuttgart ist die Hauptblütephase normalerweise bereits vorbei, da die Blüte gewöhnlich Ende April bis Anfang Mai stattfindet. Daher ist es wahrscheinlich, dass der Winterraps zu diesem Zeitpunkt nicht mehr blüht oder die Blüte weitgehend abgeschlossen ist.', 'tokens': {'completion_tokens': 110, 'prompt_tokens': 97, 'total_tokens': 207}}, {'id': 17, 'plant': 'Winterraps', 'city': 'Bremen', 'date': '04.06.2023', 'sentence': 'Angenommen, heute wäre der 04.06.2023. Wir sind in Bremen. Ist die Winterraps gerade am Blühen?', 'response': True, 'reasoning': 'Winterraps in Bremen blüht typischerweise von Ende Mai bis Mitte Juni. Am 04.06.2023 befindet sich die Pflanze somit in der Blütephase.', 'tokens': {'completion_tokens': 57, 'prompt_tokens': 97, 'total_tokens': 154}}, {'id': 18, 'plant': 'Winterraps', 'city': 'München', 'date': '14.03.2020', 'sentence': 'Angenommen, es wäre der 14.03.2020 und wir wären in München. Blüht die Winterraps zu diesem Zeitpunkt?', 'response': False, 'reasoning': 'Am 14.03.2020 in München befindet sich Winterraps in der Regel noch nicht in voller Blüte. Winterraps wird meist im August bis September gesät, beginnt im Herbst mit der Entwicklung und überdauert den Winter als Pflanze. Die Blütezeit von Winterraps liegt typischerweise zwischen April und Mai. Mitte März sind die Pflanzen meistens noch in der Entwicklungsphase vor der Blüte.', 'tokens': {'completion_tokens': 106, 'prompt_tokens': 97, 'total_tokens': 203}}, {'id': 19, 'plant': 'Winterraps', 'city': 'Leipzig', 'date': '28.02.2019', 'sentence': 'Stellen wir uns vor, es ist der 28.02.2019 und wir sind in Leipzig. Blüht die Winterraps jetzt?', 'response': False, 'reasoning': 'Am 28. Februar 2019 in Leipzig blüht Winterraps in der Regel noch nicht. Winterraps wird meist im Herbst gesät und übersteht den Winter als Pflanze, beginnt aber erst im März mit der Blüte, wenn die Temperaturen steigen und die Tageslänge zunimmt. Ende Februar ist es meist noch zu kalt, sodass die Blütezeit normalerweise erst kurz darauf, im März, beginnt.', 'tokens': {'completion_tokens': 105, 'prompt_tokens': 97, 'total_tokens': 202}}, {'id': 20, 'plant': 'Winterroggen', 'city': 'Bremen', 'date': '18.05.2022', 'sentence': 'Heute ist der 18.05.2022. Wir befinden uns in Bremen. Blüht die Winterroggen derzeit?', 'response': False, 'reasoning': 'Winterroggen (Secale cereale) wird im Herbst ausgesät und blüht typischerweise im späten Frühjahr, meist von Mai bis Juni, abhängig von den klimatischen Bedingungen. Da wir uns am 18.05.2022 in Bremen befinden, ist die Blütezeit des Winterroggens gerade erst im Anlaufen. In Bremen kann der Roggen Anfang Mai bis Mitte Juni blühen, jedoch ist Mitte Mai oft noch zu früh für eine volle Blüte. Es ist möglich, dass erste Blütenansätze vorhanden sind, aber die Winterroggen stehen in der Regel noch nicht in voller Blüte.', 'tokens': {'completion_tokens': 147, 'prompt_tokens': 92, 'total_tokens': 239}}, {'id': 21, 'plant': 'Winterroggen', 'city': 'Köln', 'date': '23.06.2023', 'sentence': 'Heute ist der 23.06.2023. Wir befinden uns in Köln. Blüht die Winterroggen derzeit?', 'response': False, 'reasoning': 'Winterroggen (Secale cereale) wird im Herbst gesät und wächst in den Winter- und Frühjahrsmonaten. Die Blütezeit liegt normalerweise zwischen Mai und Juni, je nach Wetter und Region. Am 23.06. in Köln ist die Blütephase des Winterroggens in der Regel bereits abgeschlossen oder geht dem Ende zu. Daher blüht der Winterroggen zu diesem Zeitpunkt höchstwahrscheinlich nicht mehr.', 'tokens': {'completion_tokens': 110, 'prompt_tokens': 92, 'total_tokens': 202}}, {'id': 22, 'plant': 'Winterroggen', 'city': 'Düsseldorf', 'date': '29.04.2021', 'sentence': 'Stellen wir uns vor, heute sei der 29.04.2021. Wir befinden uns in Düsseldorf. Blüht die Winterroggen aktuell?', 'response': False, 'reasoning': 'Winterroggen (Secale cereale) wird in Deutschland typischerweise im Herbst gesät und blüht je nach Sorte und Witterung normalerweise von Mitte Mai bis Anfang Juni. Am 29.04.2021 ist in Düsseldorf der Winterroggen in der Regel noch nicht ausgewachsen genug, um zu blühen. Die Blütezeit beginnt meist einige Wochen später.', 'tokens': {'completion_tokens': 97, 'prompt_tokens': 98, 'total_tokens': 195}}, {'id': 23, 'plant': 'Winterroggen', 'city': 'Köln', 'date': '11.04.2021', 'sentence': 'Stellen wir uns vor, heute sei der 11.04.2021. Wir befinden uns in Köln. Blüht die Winterroggen aktuell?', 'response': False, 'reasoning': 'Winterroggen (Secale cereale) wird im Herbst gesät und beginnt im Frühjahr zu wachsen. In Köln, mit gemäßigtem Klima, blüht Winterroggen typischerweise zwischen Mai und Juni, wenn die Temperaturen steigen und die Tageslänge zunimmt. Am 11.04.2021 ist es in der Regel noch zu früh für die Blütephase, da die Pflanzen meist noch in der Vegetationsphase sind.', 'tokens': {'completion_tokens': 109, 'prompt_tokens': 98, 'total_tokens': 207}}]\n"
     ]
    }
   ],
   "source": [
    "import json\n",
    "base_prompt = 'Antworte in JSON und folge dem Schema: { \"type\": \"object\", \"properties\": { \"response\": { \"type\": \"boolean\" }, \"reasoning\": { \"type\": \"string\" } }, \"required\": [ \"response\", \"reasoning\" ] }'\n",
    "with open(\"datasets/dataset_24.json\", \"r\") as file:\n",
    "    dataset = json.load(file)\n",
    "\n",
    "\n",
    "responses = []\n",
    "for data in dataset:\n",
    "    sentence = data[\"sentence\"]\n",
    "    prompt = f\"{sentence}\\n{base_prompt}\"\n",
    "    response = llm.invoke(prompt)\n",
    "    cleaned_response = response.content.strip(\"```json\").strip(\"```\").strip()\n",
    "    response_json = json.loads(cleaned_response)\n",
    "    responses.append({\n",
    "        \"id\": data[\"id\"],\n",
    "        \"plant\": data[\"plant\"],\n",
    "        \"city\": data[\"city\"],\n",
    "        \"date\": data[\"date\"],\n",
    "        \"sentence\": sentence,\n",
    "        \"response\": response_json[\"response\"],\n",
    "        \"reasoning\": response_json[\"reasoning\"],\n",
    "        \"tokens\": {\n",
    "            \"completion_tokens\": response.response_metadata[\"token_usage\"][\"completion_tokens\"],\n",
    "            \"prompt_tokens\": response.response_metadata[\"token_usage\"][\"prompt_tokens\"],\n",
    "            \"total_tokens\": response.response_metadata[\"token_usage\"][\"total_tokens\"]\n",
    "        }\n",
    "    })\n",
    "\n",
    "print(responses)\n",
    "\n",
    "with open(\"results/only_llm_24.json\", \"w\") as file:\n",
    "    json.dump(responses, file, indent=4)\n",
    "\n"
   ]
  },
  {
   "cell_type": "code",
   "execution_count": 31,
   "metadata": {},
   "outputs": [
    {
     "data": {
      "text/plain": [
       "207"
      ]
     },
     "execution_count": 31,
     "metadata": {},
     "output_type": "execute_result"
    }
   ],
   "source": [
    "response.response_metadata[\"token_usage\"][\"completion_tokens\"]\n",
    "response.response_metadata[\"token_usage\"][\"prompt_tokens\"]\n",
    "response.response_metadata[\"token_usage\"][\"total_tokens\"]\n",
    "#json.loads(response.content.strip(\"```json\").strip(\"```\").strip())"
   ]
  }
 ],
 "metadata": {
  "kernelspec": {
   "display_name": ".ocits-venv",
   "language": "python",
   "name": "python3"
  },
  "language_info": {
   "codemirror_mode": {
    "name": "ipython",
    "version": 3
   },
   "file_extension": ".py",
   "mimetype": "text/x-python",
   "name": "python",
   "nbconvert_exporter": "python",
   "pygments_lexer": "ipython3",
   "version": "3.12.10"
  }
 },
 "nbformat": 4,
 "nbformat_minor": 2
}
