{
 "cells": [
  {
   "cell_type": "code",
   "execution_count": 1,
   "metadata": {},
   "outputs": [],
   "source": [
    "import tools"
   ]
  },
  {
   "cell_type": "code",
   "execution_count": 2,
   "metadata": {},
   "outputs": [
    {
     "name": "stdout",
     "output_type": "stream",
     "text": [
      "Requirement already satisfied: python-dotenv in /home/leonardo/Studium/ocits/.ocits-venv/lib64/python3.12/site-packages (1.1.0)\n",
      "Note: you may need to restart the kernel to use updated packages.\n"
     ]
    }
   ],
   "source": [
    "%pip install python-dotenv"
   ]
  },
  {
   "cell_type": "code",
   "execution_count": 3,
   "metadata": {},
   "outputs": [
    {
     "name": "stdout",
     "output_type": "stream",
     "text": [
      "https://api.smith.langchain.com\n"
     ]
    }
   ],
   "source": [
    "from dotenv import load_dotenv\n",
    "import os\n",
    "\n",
    "# Load environment variables from .env file\n",
    "load_dotenv()\n",
    "print(os.getenv(\"LANGSMITH_ENDPOINT\"))"
   ]
  },
  {
   "cell_type": "code",
   "execution_count": 4,
   "metadata": {},
   "outputs": [
    {
     "name": "stdout",
     "output_type": "stream",
     "text": [
      "Requirement already satisfied: langchain in /home/leonardo/Studium/ocits/.ocits-venv/lib64/python3.12/site-packages (0.3.26)\n",
      "Requirement already satisfied: langchain-openai in /home/leonardo/Studium/ocits/.ocits-venv/lib64/python3.12/site-packages (0.3.28)\n",
      "Requirement already satisfied: langchain-core<1.0.0,>=0.3.66 in /home/leonardo/Studium/ocits/.ocits-venv/lib64/python3.12/site-packages (from langchain) (0.3.69)\n",
      "Requirement already satisfied: langchain-text-splitters<1.0.0,>=0.3.8 in /home/leonardo/Studium/ocits/.ocits-venv/lib64/python3.12/site-packages (from langchain) (0.3.8)\n",
      "Requirement already satisfied: langsmith>=0.1.17 in /home/leonardo/Studium/ocits/.ocits-venv/lib64/python3.12/site-packages (from langchain) (0.3.45)\n",
      "Requirement already satisfied: pydantic<3.0.0,>=2.7.4 in /home/leonardo/Studium/ocits/.ocits-venv/lib64/python3.12/site-packages (from langchain) (2.11.4)\n",
      "Requirement already satisfied: SQLAlchemy<3,>=1.4 in /home/leonardo/Studium/ocits/.ocits-venv/lib64/python3.12/site-packages (from langchain) (2.0.40)\n",
      "Requirement already satisfied: requests<3,>=2 in /home/leonardo/Studium/ocits/.ocits-venv/lib64/python3.12/site-packages (from langchain) (2.32.3)\n",
      "Requirement already satisfied: PyYAML>=5.3 in /home/leonardo/Studium/ocits/.ocits-venv/lib64/python3.12/site-packages (from langchain) (6.0.2)\n",
      "Requirement already satisfied: tenacity!=8.4.0,<10.0.0,>=8.1.0 in /home/leonardo/Studium/ocits/.ocits-venv/lib64/python3.12/site-packages (from langchain-core<1.0.0,>=0.3.66->langchain) (9.1.2)\n",
      "Requirement already satisfied: jsonpatch<2.0,>=1.33 in /home/leonardo/Studium/ocits/.ocits-venv/lib64/python3.12/site-packages (from langchain-core<1.0.0,>=0.3.66->langchain) (1.33)\n",
      "Requirement already satisfied: typing-extensions>=4.7 in /home/leonardo/Studium/ocits/.ocits-venv/lib64/python3.12/site-packages (from langchain-core<1.0.0,>=0.3.66->langchain) (4.13.2)\n",
      "Requirement already satisfied: packaging>=23.2 in /home/leonardo/Studium/ocits/.ocits-venv/lib64/python3.12/site-packages (from langchain-core<1.0.0,>=0.3.66->langchain) (24.2)\n",
      "Requirement already satisfied: jsonpointer>=1.9 in /home/leonardo/Studium/ocits/.ocits-venv/lib64/python3.12/site-packages (from jsonpatch<2.0,>=1.33->langchain-core<1.0.0,>=0.3.66->langchain) (3.0.0)\n",
      "Requirement already satisfied: annotated-types>=0.6.0 in /home/leonardo/Studium/ocits/.ocits-venv/lib64/python3.12/site-packages (from pydantic<3.0.0,>=2.7.4->langchain) (0.7.0)\n",
      "Requirement already satisfied: pydantic-core==2.33.2 in /home/leonardo/Studium/ocits/.ocits-venv/lib64/python3.12/site-packages (from pydantic<3.0.0,>=2.7.4->langchain) (2.33.2)\n",
      "Requirement already satisfied: typing-inspection>=0.4.0 in /home/leonardo/Studium/ocits/.ocits-venv/lib64/python3.12/site-packages (from pydantic<3.0.0,>=2.7.4->langchain) (0.4.0)\n",
      "Requirement already satisfied: charset-normalizer<4,>=2 in /home/leonardo/Studium/ocits/.ocits-venv/lib64/python3.12/site-packages (from requests<3,>=2->langchain) (3.4.2)\n",
      "Requirement already satisfied: idna<4,>=2.5 in /home/leonardo/Studium/ocits/.ocits-venv/lib64/python3.12/site-packages (from requests<3,>=2->langchain) (3.10)\n",
      "Requirement already satisfied: urllib3<3,>=1.21.1 in /home/leonardo/Studium/ocits/.ocits-venv/lib64/python3.12/site-packages (from requests<3,>=2->langchain) (2.4.0)\n",
      "Requirement already satisfied: certifi>=2017.4.17 in /home/leonardo/Studium/ocits/.ocits-venv/lib64/python3.12/site-packages (from requests<3,>=2->langchain) (2025.4.26)\n",
      "Requirement already satisfied: greenlet>=1 in /home/leonardo/Studium/ocits/.ocits-venv/lib64/python3.12/site-packages (from SQLAlchemy<3,>=1.4->langchain) (3.2.2)\n",
      "Requirement already satisfied: openai<2.0.0,>=1.86.0 in /home/leonardo/Studium/ocits/.ocits-venv/lib64/python3.12/site-packages (from langchain-openai) (1.90.0)\n",
      "Requirement already satisfied: tiktoken<1,>=0.7 in /home/leonardo/Studium/ocits/.ocits-venv/lib64/python3.12/site-packages (from langchain-openai) (0.9.0)\n",
      "Requirement already satisfied: anyio<5,>=3.5.0 in /home/leonardo/Studium/ocits/.ocits-venv/lib64/python3.12/site-packages (from openai<2.0.0,>=1.86.0->langchain-openai) (4.9.0)\n",
      "Requirement already satisfied: distro<2,>=1.7.0 in /home/leonardo/Studium/ocits/.ocits-venv/lib64/python3.12/site-packages (from openai<2.0.0,>=1.86.0->langchain-openai) (1.9.0)\n",
      "Requirement already satisfied: httpx<1,>=0.23.0 in /home/leonardo/Studium/ocits/.ocits-venv/lib64/python3.12/site-packages (from openai<2.0.0,>=1.86.0->langchain-openai) (0.28.1)\n",
      "Requirement already satisfied: jiter<1,>=0.4.0 in /home/leonardo/Studium/ocits/.ocits-venv/lib64/python3.12/site-packages (from openai<2.0.0,>=1.86.0->langchain-openai) (0.9.0)\n",
      "Requirement already satisfied: sniffio in /home/leonardo/Studium/ocits/.ocits-venv/lib64/python3.12/site-packages (from openai<2.0.0,>=1.86.0->langchain-openai) (1.3.1)\n",
      "Requirement already satisfied: tqdm>4 in /home/leonardo/Studium/ocits/.ocits-venv/lib64/python3.12/site-packages (from openai<2.0.0,>=1.86.0->langchain-openai) (4.67.1)\n",
      "Requirement already satisfied: httpcore==1.* in /home/leonardo/Studium/ocits/.ocits-venv/lib64/python3.12/site-packages (from httpx<1,>=0.23.0->openai<2.0.0,>=1.86.0->langchain-openai) (1.0.9)\n",
      "Requirement already satisfied: h11>=0.16 in /home/leonardo/Studium/ocits/.ocits-venv/lib64/python3.12/site-packages (from httpcore==1.*->httpx<1,>=0.23.0->openai<2.0.0,>=1.86.0->langchain-openai) (0.16.0)\n",
      "Requirement already satisfied: regex>=2022.1.18 in /home/leonardo/Studium/ocits/.ocits-venv/lib64/python3.12/site-packages (from tiktoken<1,>=0.7->langchain-openai) (2024.11.6)\n",
      "Requirement already satisfied: orjson<4.0.0,>=3.9.14 in /home/leonardo/Studium/ocits/.ocits-venv/lib64/python3.12/site-packages (from langsmith>=0.1.17->langchain) (3.10.18)\n",
      "Requirement already satisfied: requests-toolbelt<2.0.0,>=1.0.0 in /home/leonardo/Studium/ocits/.ocits-venv/lib64/python3.12/site-packages (from langsmith>=0.1.17->langchain) (1.0.0)\n",
      "Requirement already satisfied: zstandard<0.24.0,>=0.23.0 in /home/leonardo/Studium/ocits/.ocits-venv/lib64/python3.12/site-packages (from langsmith>=0.1.17->langchain) (0.23.0)\n",
      "Note: you may need to restart the kernel to use updated packages.\n"
     ]
    }
   ],
   "source": [
    "%pip install -U langchain langchain-openai"
   ]
  },
  {
   "cell_type": "code",
   "execution_count": 5,
   "metadata": {},
   "outputs": [],
   "source": [
    "import os\n",
    "\n",
    "import os\n",
    "from langchain.chat_models import init_chat_model\n",
    "\n",
    "\n",
    "\n",
    "llm = init_chat_model(\n",
    "    \"azure_openai:gpt-4.1-nano\",\n",
    "    azure_deployment=os.environ[\"AZURE_OPENAI_DEPLOYMENT_NAME\"],\n",
    "    api_version=\"2024-12-01-preview\"\n",
    ")\n",
    "\n",
    "agent_tools = [tools.get_all_plants, tools.get_bloom_data]\n",
    "llm_with_tools = llm.bind_tools(agent_tools)"
   ]
  },
  {
   "cell_type": "code",
   "execution_count": 6,
   "metadata": {},
   "outputs": [],
   "source": [
    "def rename(newname):\n",
    "    def decorator(f):\n",
    "        f.__name__ = newname\n",
    "        return f\n",
    "    return decorator"
   ]
  },
  {
   "cell_type": "code",
   "execution_count": 7,
   "metadata": {},
   "outputs": [],
   "source": [
    "from langgraph.graph import MessagesState\n",
    "from langchain_core.messages import HumanMessage, SystemMessage\n",
    "from langgraph.prebuilt import create_react_agent\n",
    "import functools\n",
    "from utils import make_specialist\n",
    "\n",
    "        "
   ]
  },
  {
   "cell_type": "code",
   "execution_count": 8,
   "metadata": {},
   "outputs": [
    {
     "data": {
      "text/plain": [
       "{'data': {'Jahr': {2: 2023},\n",
       "  'Gebietsmittel': {2: '20.02. '},\n",
       "  'Abweichung vom Mittel': {2: '-8 Tage'}},\n",
       " 'info': 'Tabelle mit den mittleren Beobachtungsterminen und den Abweichungen vom Mittel der Phase \"Erle: Blüh-Beginn\" im Gebiet Deutschland für verschiedene Jahre. Positive Abweichungen bedeuten, dass die Phase im entsprechendem Jahr später aufgetreten ist.'}"
      ]
     },
     "execution_count": 8,
     "metadata": {},
     "output_type": "execute_result"
    }
   ],
   "source": [
    "plant = \"erle\"\n",
    "blooming = functools.partial(tools.get_bloom_data, plant=plant)\n",
    "\n",
    "@rename(f\"get_bloom_data_{plant}\")\n",
    "\n",
    "def get_bloom_data(year: int):\n",
    "    \"\"\"\n",
    "    Get bloom data for the specified plant and year.\n",
    "\n",
    "    Args:\n",
    "        year (int): The year for which to retrieve bloom data.\n",
    "\n",
    "    Returns:\n",
    "        dict: A dictionary containing bloom data and additional information.\n",
    "    \"\"\"\n",
    "    return blooming(year = year)\n",
    "\n",
    "get_bloom_data(2023)"
   ]
  },
  {
   "cell_type": "code",
   "execution_count": 9,
   "metadata": {},
   "outputs": [
    {
     "data": {
      "text/plain": [
       "{'error': ValueError(\"Error 432: This request exceeds your plan's set usage limit. Please upgrade your plan or contact support@tavily.com\")}"
      ]
     },
     "execution_count": 9,
     "metadata": {},
     "output_type": "execute_result"
    }
   ],
   "source": [
    "import os\n",
    "from langchain_tavily import TavilySearch\n",
    "\n",
    "web_search = TavilySearch(max_results=3)\n",
    "web_search.invoke(\"Was ist die Blütezeit von Sonnenblumen?\")"
   ]
  },
  {
   "cell_type": "code",
   "execution_count": 10,
   "metadata": {},
   "outputs": [],
   "source": [
    "fallback_agent = create_react_agent(\n",
    "    model=llm,\n",
    "    tools=[web_search],\n",
    "    prompt=(\n",
    "        'Aufgaben:'\n",
    "        '- Du bist ein Assistent, der Informationen über die Blütezeit von Pflanzen bereitstellt. Suche im Internet nach Informationen.'\n",
    "        'Antworte in JSON und folge dem Schema: {\"type\": \"object\",\"properties\": {\"response\": {\"type\": \"string\",\"enum\": [\"yes\", \"no\", \"no answer\"]},reasoning\": {\"type\": \"string\"}},\"required\": [\"response\", \"reasoning\"]}'\n",
    "        'response soll auf \"yes\" gesetzt werden, wenn die Pflanze blüht und \"no\", wenn sie nicht blüht. Falls du dir nicht sicher bist antworte mit \"no answer\".'\n",
    "    ),\n",
    "    name=\"fallback_agent\",\n",
    ")"
   ]
  },
  {
   "cell_type": "code",
   "execution_count": 11,
   "metadata": {},
   "outputs": [
    {
     "name": "stdout",
     "output_type": "stream",
     "text": [
      "['apfel', 'birke', 'erle', 'hasel', 'winterraps', 'winterroggen', 'esche', 'forsythie', 'huflattich', 'loewenzahn', 'schneegloeckhen', 'beifuss']\n"
     ]
    },
    {
     "data": {
      "text/plain": [
       "['apfel_agent',\n",
       " 'birke_agent',\n",
       " 'erle_agent',\n",
       " 'hasel_agent',\n",
       " 'winterraps_agent',\n",
       " 'winterroggen_agent',\n",
       " 'esche_agent',\n",
       " 'forsythie_agent',\n",
       " 'huflattich_agent',\n",
       " 'loewenzahn_agent',\n",
       " 'schneegloeckhen_agent',\n",
       " 'beifuss_agent']"
      ]
     },
     "execution_count": 11,
     "metadata": {},
     "output_type": "execute_result"
    }
   ],
   "source": [
    "plants = tools.get_all_plants().split(\" \")\n",
    "print(plants)\n",
    "#create specialists\n",
    "specialists = {plant: make_specialist(plant, llm) for plant in plants}\n",
    "[specialist.name for specialist in specialists.values()]"
   ]
  },
  {
   "cell_type": "code",
   "execution_count": null,
   "metadata": {},
   "outputs": [],
   "source": []
  },
  {
   "cell_type": "code",
   "execution_count": 12,
   "metadata": {},
   "outputs": [],
   "source": [
    "from langgraph_supervisor import create_supervisor\n",
    "from langgraph_supervisor.handoff import create_forward_message_tool\n",
    "\n",
    "\n",
    "forwarding_tool = create_forward_message_tool(\"supervisor\") # The argument is the name to assign to the resulting forwarded message\n",
    "\n",
    "\n",
    "\n",
    "supervisor = create_supervisor(\n",
    "    model =llm,\n",
    "    agents= list(specialists.values()),\n",
    "    prompt=(\n",
    "        'Du bist ein Supervisor, der die Anfragen an Spezialisten weiterleitet. '\n",
    "        'Anweisungen:'\n",
    "        '- Wenn du eine Anfrage erhältst, leite sie an den passenden Spezialisten weiter. '\n",
    "        '- Spezialisten sind benannt <plant>_agent, wobei <plant> der Name der Pflanze ist, für die Informationen benötigt werden.'\n",
    "        '- Wenn kein passender Spezialist gefunden wird, antwort mit \"no answer\" und nutze folgendes format: {\"type\": \"object\",\"properties\": {\"response\": {\"type\": \"string\",\"enum\": [\"yes\", \"no\", \"no answer\"]},reasoning\": {\"type\": \"string\"}},\"required\": [\"response\", \"reasoning\"]}'\n",
    "        'Wichtig!:'\n",
    "        '- Antworte auf keinen fall selbst!'\n",
    "        '- Nutze statt zu antworten forwarding_tool, um die Antworten der spezialisten und des fallback_agents an __end__ weiterzuleiten.'\n",
    "    ),\n",
    "    add_handoff_back_messages=True,\n",
    "    output_mode=\"full_history\",\n",
    "    tools=[forwarding_tool],\n",
    ").compile()"
   ]
  },
  {
   "cell_type": "code",
   "execution_count": 13,
   "metadata": {},
   "outputs": [
    {
     "data": {
      "image/png": "[encoded data removed]",
      "text/plain": [
       "<IPython.core.display.Image object>"
      ]
     },
     "metadata": {},
     "output_type": "display_data"
    }
   ],
   "source": [
    "\n",
    "\n",
    "from IPython.display import display, Image\n",
    "\n",
    "display(Image(supervisor.get_graph().draw_mermaid_png()))\n",
    "\n"
   ]
  },
  {
   "cell_type": "code",
   "execution_count": 14,
   "metadata": {},
   "outputs": [],
   "source": [
    "# hide-cell\n",
    "from langchain_core.messages import convert_to_messages\n",
    "from utils import pretty_print_message, pretty_print_messages"
   ]
  },
  {
   "cell_type": "code",
   "execution_count": null,
   "metadata": {},
   "outputs": [
    {
     "name": "stdout",
     "output_type": "stream",
     "text": [
      "Processing: Haben sich bis 29.04.2021 in Nürnberg bereits Blüten an der Apfel gezeigt?\n",
      "================================\u001b[1m Human Message \u001b[0m=================================\n",
      "\n",
      "Haben sich bis 29.04.2021 in Nürnberg bereits Blüten an der Apfel gezeigt?\n",
      "==================================\u001b[1m Ai Message \u001b[0m==================================\n",
      "Name: supervisor\n",
      "Tool Calls:\n",
      "  transfer_to_apfel_agent (call_MdsRldm79ShF9UfeDqsJ0TTm)\n",
      " Call ID: call_MdsRldm79ShF9UfeDqsJ0TTm\n",
      "  Args:\n",
      "=================================\u001b[1m Tool Message \u001b[0m=================================\n",
      "Name: transfer_to_apfel_agent\n",
      "\n",
      "Successfully transferred to apfel_agent\n",
      "==================================\u001b[1m Ai Message \u001b[0m==================================\n",
      "Name: apfel_agent\n",
      "Tool Calls:\n",
      "  get_bloom_data_apfel (call_JoOMi7q2JnzcpbyplEG9gRo7)\n",
      " Call ID: call_JoOMi7q2JnzcpbyplEG9gRo7\n",
      "  Args:\n",
      "    year: 2021\n",
      "=================================\u001b[1m Tool Message \u001b[0m=================================\n",
      "Name: get_bloom_data_apfel\n",
      "\n",
      "{\"data\": {\"Jahr\": {\"4\": 2021}, \"Gebietsmittel\": {\"4\": \"01.05. \"}, \"Abweichung vom Mittel\": {\"4\": \"5 Tage\"}}, \"info\": \"Tabelle mit den mittleren Beobachtungsterminen und den Abweichungen vom Mittel der Phase \\\"Apfel: Blüh-Beginn\\\" im Gebiet Deutschland für verschiedene Jahre. Positive Abweichungen bedeuten, dass die Phase im entsprechendem Jahr später aufgetreten ist.\\n\\n© Deutscher Wetterdienst, erstellt 23.05.2025 01:34 UTC. Alle Angaben ohne Gewähr!\"}\n",
      "==================================\u001b[1m Ai Message \u001b[0m==================================\n",
      "Name: apfel_agent\n",
      "\n",
      "{\n",
      "  \"response\": \"no\",\n",
      "  \"reasoning\": \"Die mittleren Beobachtungstermine für den Blühbeginn von Apfel in Deutschland im Jahr 2021 liegen um den 01.05., also nach dem 29.04.2021. Das bedeutet, dass bis zum 29.04.2021 in Nürnberg noch keine Apfelblüten beobachtet wurden.\"\n",
      "}\n",
      "==================================\u001b[1m Ai Message \u001b[0m==================================\n",
      "Name: apfel_agent\n",
      "\n",
      "Transferring back to supervisor\n",
      "Tool Calls:\n",
      "  transfer_back_to_supervisor (beaa446a-2eed-4239-8cba-fa5d66bef614)\n",
      " Call ID: beaa446a-2eed-4239-8cba-fa5d66bef614\n",
      "  Args:\n",
      "=================================\u001b[1m Tool Message \u001b[0m=================================\n",
      "Name: transfer_back_to_supervisor\n",
      "\n",
      "Successfully transferred back to supervisor\n",
      "==================================\u001b[1m Ai Message \u001b[0m==================================\n",
      "Name: supervisor\n",
      "\n",
      "{\n",
      "  \"response\": \"no\",\n",
      "  \"reasoning\": \"Die mittleren Beobachtungstermine für den Blühbeginn von Apfel in Deutschland im Jahr 2021 liegen um den 01.05., also nach dem 29.04.2021. Das bedeutet, dass bis zum 29.04.2021 in Nürnberg noch keine Apfelblüten beobachtet wurden.\"\n",
      "}\n",
      "Processed: 1 / 850 responses collected: 1\n",
      "Processing: Hat die Apfel in Berlin bis zum 17.05.2022 schon mit der Blüte begonnen oder ist sie dieses Jahr bereits aufgeblüht?\n",
      "================================\u001b[1m Human Message \u001b[0m=================================\n",
      "\n",
      "Hat die Apfel in Berlin bis zum 17.05.2022 schon mit der Blüte begonnen oder ist sie dieses Jahr bereits aufgeblüht?\n",
      "==================================\u001b[1m Ai Message \u001b[0m==================================\n",
      "Name: supervisor\n",
      "Tool Calls:\n",
      "  transfer_to_apfel_agent (call_qJdb8HEYlDZX7fwLTwaLWcnY)\n",
      " Call ID: call_qJdb8HEYlDZX7fwLTwaLWcnY\n",
      "  Args:\n",
      "=================================\u001b[1m Tool Message \u001b[0m=================================\n",
      "Name: transfer_to_apfel_agent\n",
      "\n",
      "Successfully transferred to apfel_agent\n",
      "==================================\u001b[1m Ai Message \u001b[0m==================================\n",
      "Name: apfel_agent\n",
      "Tool Calls:\n",
      "  get_bloom_data_apfel (call_YJhz5XPin65TtI4OX1j0ph5y)\n",
      " Call ID: call_YJhz5XPin65TtI4OX1j0ph5y\n",
      "  Args:\n",
      "    year: 2022\n",
      "=================================\u001b[1m Tool Message \u001b[0m=================================\n",
      "Name: get_bloom_data_apfel\n",
      "\n",
      "{\"data\": {\"Jahr\": {\"3\": 2022}, \"Gebietsmittel\": {\"3\": \"22.04. \"}, \"Abweichung vom Mittel\": {\"3\": \"-4 Tage\"}}, \"info\": \"Tabelle mit den mittleren Beobachtungsterminen und den Abweichungen vom Mittel der Phase \\\"Apfel: Blüh-Beginn\\\" im Gebiet Deutschland für verschiedene Jahre. Positive Abweichungen bedeuten, dass die Phase im entsprechendem Jahr später aufgetreten ist.\\n\\n© Deutscher Wetterdienst, erstellt 23.05.2025 01:34 UTC. Alle Angaben ohne Gewähr!\"}\n",
      "==================================\u001b[1m Ai Message \u001b[0m==================================\n",
      "Name: apfel_agent\n",
      "\n",
      "{\"response\": \"yes\", \"reasoning\": \"Die Apfelblüte in Deutschland begann im Jahr 2022 im Gebietsmittel am 22. April. Bis zum 17. Mai 2022 ist die Apfelblüte somit bereits vorbei und die Pflanze hat zu diesem Zeitpunkt definitiv geblüht.\"}\n",
      "==================================\u001b[1m Ai Message \u001b[0m==================================\n",
      "Name: apfel_agent\n",
      "\n",
      "Transferring back to supervisor\n",
      "Tool Calls:\n",
      "  transfer_back_to_supervisor (1dad9092-a4a3-427d-80db-dfff953d3f5b)\n",
      " Call ID: 1dad9092-a4a3-427d-80db-dfff953d3f5b\n",
      "  Args:\n",
      "=================================\u001b[1m Tool Message \u001b[0m=================================\n",
      "Name: transfer_back_to_supervisor\n",
      "\n",
      "Successfully transferred back to supervisor\n",
      "==================================\u001b[1m Ai Message \u001b[0m==================================\n",
      "Name: supervisor\n",
      "\n",
      "{\"response\": \"yes\", \"reasoning\": \"Die Apfelblüte in Deutschland begann im Jahr 2022 im Gebietsmittel am 22. April. Bis zum 17. Mai 2022 ist die Apfelblüte somit bereits vorbei und die Pflanze hat zu diesem Zeitpunkt definitiv geblüht.\"}\n",
      "Processed: 2 / 850 responses collected: 2\n",
      "Processing: Hat die Apfel in diesem Jahr in Nürnberg bis zum 29.04.2021 bereits ihre Blütezeit begonnen?\n",
      "================================\u001b[1m Human Message \u001b[0m=================================\n",
      "\n",
      "Hat die Apfel in diesem Jahr in Nürnberg bis zum 29.04.2021 bereits ihre Blütezeit begonnen?\n",
      "==================================\u001b[1m Ai Message \u001b[0m==================================\n",
      "Name: supervisor\n",
      "Tool Calls:\n",
      "  transfer_to_apfel_agent (call_Fh7gwUJRJvsJwdOHUaV4rtlE)\n",
      " Call ID: call_Fh7gwUJRJvsJwdOHUaV4rtlE\n",
      "  Args:\n",
      "=================================\u001b[1m Tool Message \u001b[0m=================================\n",
      "Name: transfer_to_apfel_agent\n",
      "\n",
      "Successfully transferred to apfel_agent\n",
      "==================================\u001b[1m Ai Message \u001b[0m==================================\n",
      "Name: apfel_agent\n",
      "Tool Calls:\n",
      "  get_bloom_data_apfel (call_7dMlvhoCEJ9A8mL0XMawks6D)\n",
      " Call ID: call_7dMlvhoCEJ9A8mL0XMawks6D\n",
      "  Args:\n",
      "    year: 2021\n",
      "=================================\u001b[1m Tool Message \u001b[0m=================================\n",
      "Name: get_bloom_data_apfel\n",
      "\n",
      "{\"data\": {\"Jahr\": {\"4\": 2021}, \"Gebietsmittel\": {\"4\": \"01.05. \"}, \"Abweichung vom Mittel\": {\"4\": \"5 Tage\"}}, \"info\": \"Tabelle mit den mittleren Beobachtungsterminen und den Abweichungen vom Mittel der Phase \\\"Apfel: Blüh-Beginn\\\" im Gebiet Deutschland für verschiedene Jahre. Positive Abweichungen bedeuten, dass die Phase im entsprechendem Jahr später aufgetreten ist.\\n\\n© Deutscher Wetterdienst, erstellt 23.05.2025 01:34 UTC. Alle Angaben ohne Gewähr!\"}\n",
      "==================================\u001b[1m Ai Message \u001b[0m==================================\n",
      "Name: apfel_agent\n",
      "\n",
      "{\"response\": \"no\", \"reasoning\": \"Die mittlere Blüh-Beginnzeit der Apfelblüte im Jahr 2021 lag am 01.05., also nach dem 29.04.2021. Daher hat die Apfel in Nürnberg bis zum 29.04.2021 ihre Blütezeit noch nicht begonnen.\"}\n",
      "==================================\u001b[1m Ai Message \u001b[0m==================================\n",
      "Name: apfel_agent\n",
      "\n",
      "Transferring back to supervisor\n",
      "Tool Calls:\n",
      "  transfer_back_to_supervisor (64babb2d-a243-4c53-8405-ec513de5d870)\n",
      " Call ID: 64babb2d-a243-4c53-8405-ec513de5d870\n",
      "  Args:\n",
      "=================================\u001b[1m Tool Message \u001b[0m=================================\n",
      "Name: transfer_back_to_supervisor\n",
      "\n",
      "Successfully transferred back to supervisor\n",
      "==================================\u001b[1m Ai Message \u001b[0m==================================\n",
      "Name: supervisor\n",
      "\n",
      "{\"response\": \"no\", \"reasoning\": \"Die mittlere Blüh-Beginnzeit der Apfelblüte im Jahr 2021 lag am 01.05., also nach dem 29.04.2021. Daher hat die Apfel in Nürnberg bis zum 29.04.2021 ihre Blütezeit noch nicht begonnen.\"}\n",
      "Processed: 3 / 850 responses collected: 3\n",
      "Processing: Können wir sagen, dass die Blüte der Apfel in Bremen bis 24.02.2019 bereits eingesetzt hat?\n"
     ]
    }
   ],
   "source": [
    "import json\n",
    "from utils import get_tokens\n",
    "#base_prompt = 'Antworte in JSON und folge dem Schema: { \"type\": \"object\", \"properties\": { \"response\": { \"type\": \"boolean\" }, \"reasoning\": { \"type\": \"string\" } }, \"required\": [ \"response\", \"reasoning\" ] }'\n",
    "with open(\"datasets/dataset_850.json\", \"r\") as file:\n",
    "    dataset = json.load(file)\n",
    "\n",
    "\n",
    "responses = []\n",
    "count = 0\n",
    "for data in dataset:\n",
    "    sentence = data[\"sentence\"]\n",
    "    prompt = [HumanMessage(content=sentence)]\n",
    "    print(f\"Processing: {sentence}\")\n",
    "    try:\n",
    "        messages = supervisor.invoke({\"messages\": prompt})\n",
    "    except Exception as e:\n",
    "        responses.append({\n",
    "            \"id\": data[\"id\"],\n",
    "            \"plant\": data[\"plant\"],\n",
    "            \"city\": data[\"city\"],\n",
    "            \"date\": data[\"date\"],\n",
    "            \"sentence\": sentence,\n",
    "            \"response\": \"error\",\n",
    "            \"reasoning\": str(e),\n",
    "            \"tokens\": 0\n",
    "        })\n",
    "        print(f\"Error processing {sentence}: {e}\")\n",
    "        continue\n",
    "    \n",
    "    for m in messages['messages']:\n",
    "        m.pretty_print()\n",
    "    response = messages[\"messages\"][-1].content\n",
    "    cleaned_response = response.strip(\"```json\").strip(\"```\").strip()\n",
    "    try:\n",
    "        response_json = json.loads(cleaned_response)\n",
    "    except json.JSONDecodeError as e:\n",
    "        #sometimes the agent decides not to use the tool but to answer directly\n",
    "        response = messages[\"messages\"][-4].content\n",
    "        cleaned_response = response.strip(\"```json\").strip(\"```\").strip()\n",
    "        response_json = json.loads(cleaned_response)\n",
    "    tokens = get_tokens(messages)\n",
    "    responses.append({\n",
    "        \"id\": data[\"id\"],\n",
    "        \"plant\": data[\"plant\"],\n",
    "        \"city\": data[\"city\"],\n",
    "        \"date\": data[\"date\"],\n",
    "        \"sentence\": sentence,\n",
    "        \"response\": response_json[\"response\"],\n",
    "        \"reasoning\": response_json[\"reasoning\"],\n",
    "        \"tokens\": tokens\n",
    "    })\n",
    "    count += 1\n",
    "    print(\"Processed:\", count, \"/\", len(dataset), \"responses collected:\", len(responses))\n",
    "\n",
    "\n",
    "\n",
    "with open(\"results/multiple_agent_850.json\", \"w\") as file:\n",
    "    json.dump(responses, file, indent=4)"
   ]
  },
  {
   "cell_type": "code",
   "execution_count": null,
   "metadata": {},
   "outputs": [
    {
     "data": {
      "text/plain": [
       "{'response': 'yes',\n",
       " 'reasoning': 'The average bloom start date for winterraps in Germany in 2022 was April 20th, with a deviation of minus 4 days from the average. Therefore, by May 18, 2022, winterraps flowers were already observable in Stuttgart.'}"
      ]
     },
     "execution_count": 93,
     "metadata": {},
     "output_type": "execute_result"
    }
   ],
   "source": [
    "response_json"
   ]
  },
  {
   "cell_type": "code",
   "execution_count": null,
   "metadata": {},
   "outputs": [],
   "source": [
    "with open(\"results/multiple_agent_first_339.json\", \"w\") as file:\n",
    "    json.dump(responses, file, indent=4)\n"
   ]
  },
  {
   "cell_type": "code",
   "execution_count": null,
   "metadata": {},
   "outputs": [
    {
     "name": "stdout",
     "output_type": "stream",
     "text": [
      "================================\u001b[1m Human Message \u001b[0m=================================\n",
      "\n",
      "Angenommen heute wäre der 01.06.2020. Wir sind in Berlin. Hat die kastanie schon angefangen zu blühen?\n",
      "==================================\u001b[1m Ai Message \u001b[0m==================================\n",
      "Name: supervisor\n",
      "Tool Calls:\n",
      "  forward_message (call_Z7meAjx7ILyBOcKCxxVkv85X)\n",
      " Call ID: call_Z7meAjx7ILyBOcKCxxVkv85X\n",
      "  Args:\n",
      "    from_agent: no_answer\n",
      "=================================\u001b[1m Tool Message \u001b[0m=================================\n",
      "Name: forward_message\n",
      "\n",
      "Could not find message from source agent no_answer. Found names: {'supervisor'}\n",
      "==================================\u001b[1m Ai Message \u001b[0m==================================\n",
      "Name: supervisor\n",
      "Tool Calls:\n",
      "  transfer_to_erle_agent (call_Z1JhODdlHWg7yXFv3zoMDgsK)\n",
      " Call ID: call_Z1JhODdlHWg7yXFv3zoMDgsK\n",
      "  Args:\n",
      "=================================\u001b[1m Tool Message \u001b[0m=================================\n",
      "Name: transfer_to_erle_agent\n",
      "\n",
      "Successfully transferred to erle_agent\n",
      "==================================\u001b[1m Ai Message \u001b[0m==================================\n",
      "Name: erle_agent\n",
      "Tool Calls:\n",
      "  get_bloom_data_erle (call_ObIOYtFFofzncLn3DySUZlBo)\n",
      " Call ID: call_ObIOYtFFofzncLn3DySUZlBo\n",
      "  Args:\n",
      "    year: 2020\n",
      "=================================\u001b[1m Tool Message \u001b[0m=================================\n",
      "Name: get_bloom_data_erle\n",
      "\n",
      "{\"data\": {\"Jahr\": {\"5\": 2020}, \"Gebietsmittel\": {\"5\": \"12.02. \"}, \"Abweichung vom Mittel\": {\"5\": \"-16 Tage\"}}, \"info\": \"Tabelle mit den mittleren Beobachtungsterminen und den Abweichungen vom Mittel der Phase \\\"Erle: Blüh-Beginn\\\" im Gebiet Deutschland für verschiedene Jahre. Positive Abweichungen bedeuten, dass die Phase im entsprechendem Jahr später aufgetreten ist.\"}\n",
      "==================================\u001b[1m Ai Message \u001b[0m==================================\n",
      "Name: erle_agent\n",
      "\n",
      "{\n",
      "  \"response\": \"no\",\n",
      "  \"reasoning\": \"Die Daten zeigen den Blühbeginn der Erle im Jahr 2020 in Deutschland. Da der Beobachtungstermin im Mittel am 12. Februar liegt und 16 Tage früher als der Durchschnitt in diesem Jahr war, hat die Erle bereits im Februar geblüht. Da heute der 01. Juni 2020 ist, hat die Erle schon lange zu blühen begonnen. Die Frage bezog sich jedoch auf die Kastanie, nicht die Erle. Daher ist die Antwort für die Kastanie 'no answer', da es keine Informationen zur Kastanie vorliegen.\"\n",
      "}\n",
      "==================================\u001b[1m Ai Message \u001b[0m==================================\n",
      "Name: erle_agent\n",
      "\n",
      "Transferring back to supervisor\n",
      "Tool Calls:\n",
      "  transfer_back_to_supervisor (1f977688-a75d-475b-b5d6-5268a540e4cf)\n",
      " Call ID: 1f977688-a75d-475b-b5d6-5268a540e4cf\n",
      "  Args:\n",
      "=================================\u001b[1m Tool Message \u001b[0m=================================\n",
      "Name: transfer_back_to_supervisor\n",
      "\n",
      "Successfully transferred back to supervisor\n",
      "==================================\u001b[1m Ai Message \u001b[0m==================================\n",
      "Name: supervisor\n",
      "Tool Calls:\n",
      "  forward_message (call_e6c59kkRM1THCzevOWQ6roLA)\n",
      " Call ID: call_e6c59kkRM1THCzevOWQ6roLA\n",
      "  Args:\n",
      "    from_agent: no_answer\n",
      "=================================\u001b[1m Tool Message \u001b[0m=================================\n",
      "Name: forward_message\n",
      "\n",
      "Could not find message from source agent no_answer. Found names: {'supervisor', 'erle_agent'}\n",
      "==================================\u001b[1m Ai Message \u001b[0m==================================\n",
      "Name: supervisor\n",
      "Tool Calls:\n",
      "  forward_message (call_eSF9XHOvUEjywxwzNcDHg8fX)\n",
      " Call ID: call_eSF9XHOvUEjywxwzNcDHg8fX\n",
      "  Args:\n",
      "    from_agent: no_answer\n",
      "=================================\u001b[1m Tool Message \u001b[0m=================================\n",
      "Name: forward_message\n",
      "\n",
      "Could not find message from source agent no_answer. Found names: {'supervisor', 'erle_agent'}\n",
      "==================================\u001b[1m Ai Message \u001b[0m==================================\n",
      "Name: supervisor\n",
      "Tool Calls:\n",
      "  transfer_to_hasel_agent (call_uu4yzEGd2lajmRkjJ3PoYHSr)\n",
      " Call ID: call_uu4yzEGd2lajmRkjJ3PoYHSr\n",
      "  Args:\n",
      "=================================\u001b[1m Tool Message \u001b[0m=================================\n",
      "Name: transfer_to_hasel_agent\n",
      "\n",
      "Successfully transferred to hasel_agent\n",
      "==================================\u001b[1m Ai Message \u001b[0m==================================\n",
      "Name: hasel_agent\n",
      "Tool Calls:\n",
      "  get_bloom_data_hasel (call_quIVZBRSDGzbuRdIpFeHo8P0)\n",
      " Call ID: call_quIVZBRSDGzbuRdIpFeHo8P0\n",
      "  Args:\n",
      "    year: 2020\n",
      "=================================\u001b[1m Tool Message \u001b[0m=================================\n",
      "Name: get_bloom_data_hasel\n",
      "\n",
      "{\"data\": {\"Jahr\": {\"5\": 2020}, \"Gebietsmittel\": {\"5\": \"22.01. \"}, \"Abweichung vom Mittel\": {\"5\": \"-17 Tage\"}}, \"info\": \"Tabelle mit den mittleren Beobachtungsterminen und den Abweichungen vom Mittel der Phase \\\"Hasel: Blüh-Beginn\\\" im Gebiet Deutschland für verschiedene Jahre. Positive Abweichungen bedeuten, dass die Phase im entsprechendem Jahr später aufgetreten ist.\\n\\n© Deutscher Wetterdienst, erstellt 24.05.2025 01:31 UTC. Alle Angaben ohne Gewähr!\"}\n",
      "==================================\u001b[1m Ai Message \u001b[0m==================================\n",
      "Name: hasel_agent\n",
      "\n",
      "{\n",
      "  \"response\": \"no\",\n",
      "  \"reasoning\": \"Die Hasel begann im Jahr 2020 im Gebiet Deutschland durchschnittlich am 22. Januar zu blühen und trat 17 Tage früher auf als der Mittelwert. Da heute der 1. Juni 2020 ist, ist die Hasel bereits seit einiger Zeit vorbei mit der Blüte. Daher hat die Hasel am 01.06.2020 nicht mehr angefangen zu blühen.\"\n",
      "}\n",
      "==================================\u001b[1m Ai Message \u001b[0m==================================\n",
      "Name: hasel_agent\n",
      "\n",
      "Transferring back to supervisor\n",
      "Tool Calls:\n",
      "  transfer_back_to_supervisor (eb8c330d-4902-4aba-bcbe-5fc52a741a13)\n",
      " Call ID: eb8c330d-4902-4aba-bcbe-5fc52a741a13\n",
      "  Args:\n",
      "=================================\u001b[1m Tool Message \u001b[0m=================================\n",
      "Name: transfer_back_to_supervisor\n",
      "\n",
      "Successfully transferred back to supervisor\n",
      "==================================\u001b[1m Ai Message \u001b[0m==================================\n",
      "Name: supervisor\n",
      "Tool Calls:\n",
      "  transfer_to_birke_agent (call_J3GFDDDhUTip9CQWBWZmlhBX)\n",
      " Call ID: call_J3GFDDDhUTip9CQWBWZmlhBX\n",
      "  Args:\n",
      "=================================\u001b[1m Tool Message \u001b[0m=================================\n",
      "Name: transfer_to_birke_agent\n",
      "\n",
      "Successfully transferred to birke_agent\n",
      "==================================\u001b[1m Ai Message \u001b[0m==================================\n",
      "Name: birke_agent\n",
      "Tool Calls:\n",
      "  get_bloom_data_birke (call_MY7er9ljD36YOBG4nQr5KTpT)\n",
      " Call ID: call_MY7er9ljD36YOBG4nQr5KTpT\n",
      "  Args:\n",
      "    year: 2020\n",
      "=================================\u001b[1m Tool Message \u001b[0m=================================\n",
      "Name: get_bloom_data_birke\n",
      "\n",
      "{\"data\": {\"Jahr\": {\"5\": 2020}, \"Gebietsmittel\": {\"5\": \"06.04. \"}, \"Abweichung vom Mittel\": {\"5\": \"-8 Tage\"}}, \"info\": \"Tabelle mit den mittleren Beobachtungsterminen und den Abweichungen vom Mittel der Phase \\\"Birke: Blüh-Beginn\\\" im Gebiet Deutschland für verschiedene Jahre. Positive Abweichungen bedeuten, dass die Phase im entsprechendem Jahr später aufgetreten ist.\\n\\n© Deutscher Wetterdienst, erstellt 20.05.2025 01:33 UTC. Alle Angaben ohne Gewähr!\"}\n",
      "==================================\u001b[1m Ai Message \u001b[0m==================================\n",
      "Name: birke_agent\n",
      "\n",
      "{\n",
      "  \"response\": \"yes\",\n",
      "  \"reasoning\": \"Die Birke begann im Jahr 2020 im Gebiet Deutschland durchschnittlich am 6. April zu blühen, was 8 Tage früher als der Mittelwert war. Da heute der 1. Juni 2020 ist, hat die Birke bereits vor diesem Datum angefangen zu blühen.\"\n",
      "}\n",
      "==================================\u001b[1m Ai Message \u001b[0m==================================\n",
      "Name: birke_agent\n",
      "\n",
      "Transferring back to supervisor\n",
      "Tool Calls:\n",
      "  transfer_back_to_supervisor (cda82bde-0027-4dba-b1f0-6e435cd7d2ed)\n",
      " Call ID: cda82bde-0027-4dba-b1f0-6e435cd7d2ed\n",
      "  Args:\n",
      "=================================\u001b[1m Tool Message \u001b[0m=================================\n",
      "Name: transfer_back_to_supervisor\n",
      "\n",
      "Successfully transferred back to supervisor\n",
      "==================================\u001b[1m Ai Message \u001b[0m==================================\n",
      "Name: supervisor\n",
      "Tool Calls:\n",
      "  forward_message (call_WL0ZaMiIJZ1QzEYH4S0P5WaM)\n",
      " Call ID: call_WL0ZaMiIJZ1QzEYH4S0P5WaM\n",
      "  Args:\n",
      "    from_agent: no_answer\n",
      "=================================\u001b[1m Tool Message \u001b[0m=================================\n",
      "Name: forward_message\n",
      "\n",
      "Could not find message from source agent no_answer. Found names: {'supervisor', 'birke_agent', 'hasel_agent', 'erle_agent'}\n",
      "==================================\u001b[1m Ai Message \u001b[0m==================================\n",
      "Name: supervisor\n",
      "\n",
      "{\"response\":\"no answer\",\"reasoning\":\"Kein passender Spezialist für Kastanie verfügbar, daher keine verlässliche Information zur Blüte der Kastanie am 01.06.2020 in Berlin.\"}\n"
     ]
    }
   ],
   "source": [
    "messages = [HumanMessage(content=\"Angenommen heute wäre der 01.06.2020. Wir sind in Berlin. Hat die kastanie schon angefangen zu blühen?\")]\n",
    "messages = supervisor.invoke({\"messages\": messages})\n",
    "for m in messages['messages']:\n",
    "    m.pretty_print()"
   ]
  },
  {
   "cell_type": "code",
   "execution_count": null,
   "metadata": {},
   "outputs": [
    {
     "data": {
      "text/plain": [
       "[HumanMessage(content='Angenommen heute wäre der 01.06.2020. Wir sind in Berlin. Hat die kastanie schon angefangen zu blühen?', additional_kwargs={}, response_metadata={}, id='7badd0ea-ef9e-4aaf-8729-292c6cbe0ee0'),\n",
       " AIMessage(content='', additional_kwargs={'tool_calls': [{'id': 'call_Z7meAjx7ILyBOcKCxxVkv85X', 'function': {'arguments': '{\"from_agent\":\"no_answer\"}', 'name': 'forward_message'}, 'type': 'function'}], 'refusal': None}, response_metadata={'token_usage': {'completion_tokens': 17, 'prompt_tokens': 414, 'total_tokens': 431, 'completion_tokens_details': {'accepted_prediction_tokens': 0, 'audio_tokens': 0, 'reasoning_tokens': 0, 'rejected_prediction_tokens': 0}, 'prompt_tokens_details': {'audio_tokens': 0, 'cached_tokens': 0}}, 'model_name': 'gpt-4.1-mini-2025-04-14', 'system_fingerprint': 'fp_178c8d546f', 'id': 'chatcmpl-BvjOMOwC7aD8cuQAQfo1wrfWdZHfW', 'service_tier': None, 'prompt_filter_results': [{'prompt_index': 0, 'content_filter_results': {'hate': {'filtered': False, 'severity': 'safe'}, 'jailbreak': {'filtered': False, 'detected': False}, 'self_harm': {'filtered': False, 'severity': 'safe'}, 'sexual': {'filtered': False, 'severity': 'safe'}, 'violence': {'filtered': False, 'severity': 'safe'}}}], 'finish_reason': 'tool_calls', 'logprobs': None, 'content_filter_results': {}}, name='supervisor', id='run--b9b15b52-c6e6-497c-8510-4ce3d6e96e85-0', tool_calls=[{'name': 'forward_message', 'args': {'from_agent': 'no_answer'}, 'id': 'call_Z7meAjx7ILyBOcKCxxVkv85X', 'type': 'tool_call'}], usage_metadata={'input_tokens': 414, 'output_tokens': 17, 'total_tokens': 431, 'input_token_details': {'audio': 0, 'cache_read': 0}, 'output_token_details': {'audio': 0, 'reasoning': 0}}),\n",
       " ToolMessage(content=\"Could not find message from source agent no_answer. Found names: {'supervisor'}\", name='forward_message', id='2e496505-b6f6-4a7a-af26-a73e2d62f23f', tool_call_id='call_Z7meAjx7ILyBOcKCxxVkv85X'),\n",
       " AIMessage(content='', additional_kwargs={'tool_calls': [{'id': 'call_Z1JhODdlHWg7yXFv3zoMDgsK', 'function': {'arguments': '{}', 'name': 'transfer_to_erle_agent'}, 'type': 'function'}], 'refusal': None}, response_metadata={'token_usage': {'completion_tokens': 14, 'prompt_tokens': 458, 'total_tokens': 472, 'completion_tokens_details': {'accepted_prediction_tokens': 0, 'audio_tokens': 0, 'reasoning_tokens': 0, 'rejected_prediction_tokens': 0}, 'prompt_tokens_details': {'audio_tokens': 0, 'cached_tokens': 0}}, 'model_name': 'gpt-4.1-mini-2025-04-14', 'system_fingerprint': 'fp_178c8d546f', 'id': 'chatcmpl-BvjONZyM9QxMEVQtCLDdLUSj5OfC1', 'service_tier': None, 'prompt_filter_results': [{'prompt_index': 0, 'content_filter_results': {'hate': {'filtered': False, 'severity': 'safe'}, 'jailbreak': {'filtered': False, 'detected': False}, 'self_harm': {'filtered': False, 'severity': 'safe'}, 'sexual': {'filtered': False, 'severity': 'safe'}, 'violence': {'filtered': False, 'severity': 'safe'}}}], 'finish_reason': 'tool_calls', 'logprobs': None, 'content_filter_results': {}}, name='supervisor', id='run--866798df-94f4-4c6b-b48f-a705c7dafb6a-0', tool_calls=[{'name': 'transfer_to_erle_agent', 'args': {}, 'id': 'call_Z1JhODdlHWg7yXFv3zoMDgsK', 'type': 'tool_call'}], usage_metadata={'input_tokens': 458, 'output_tokens': 14, 'total_tokens': 472, 'input_token_details': {'audio': 0, 'cache_read': 0}, 'output_token_details': {'audio': 0, 'reasoning': 0}}),\n",
       " ToolMessage(content='Successfully transferred to erle_agent', name='transfer_to_erle_agent', id='0d2a71ea-3eda-4490-9022-6fb6993c0c3c', tool_call_id='call_Z1JhODdlHWg7yXFv3zoMDgsK'),\n",
       " AIMessage(content='', additional_kwargs={'tool_calls': [{'id': 'call_ObIOYtFFofzncLn3DySUZlBo', 'function': {'arguments': '{\"year\":2020}', 'name': 'get_bloom_data_erle'}, 'type': 'function'}], 'refusal': None}, response_metadata={'token_usage': {'completion_tokens': 20, 'prompt_tokens': 341, 'total_tokens': 361, 'completion_tokens_details': {'accepted_prediction_tokens': 0, 'audio_tokens': 0, 'reasoning_tokens': 0, 'rejected_prediction_tokens': 0}, 'prompt_tokens_details': {'audio_tokens': 0, 'cached_tokens': 0}}, 'model_name': 'gpt-4.1-mini-2025-04-14', 'system_fingerprint': 'fp_178c8d546f', 'id': 'chatcmpl-BvjONZEKf169BbkHFA6BbxMjanwSz', 'service_tier': None, 'prompt_filter_results': [{'prompt_index': 0, 'content_filter_results': {'hate': {'filtered': False, 'severity': 'safe'}, 'jailbreak': {'filtered': False, 'detected': False}, 'self_harm': {'filtered': False, 'severity': 'safe'}, 'sexual': {'filtered': False, 'severity': 'safe'}, 'violence': {'filtered': False, 'severity': 'safe'}}}], 'finish_reason': 'tool_calls', 'logprobs': None, 'content_filter_results': {}}, name='erle_agent', id='run--9ad04fe2-3965-44e6-be6c-5f4d25c9be58-0', tool_calls=[{'name': 'get_bloom_data_erle', 'args': {'year': 2020}, 'id': 'call_ObIOYtFFofzncLn3DySUZlBo', 'type': 'tool_call'}], usage_metadata={'input_tokens': 341, 'output_tokens': 20, 'total_tokens': 361, 'input_token_details': {'audio': 0, 'cache_read': 0}, 'output_token_details': {'audio': 0, 'reasoning': 0}}),\n",
       " ToolMessage(content='{\"data\": {\"Jahr\": {\"5\": 2020}, \"Gebietsmittel\": {\"5\": \"12.02. \"}, \"Abweichung vom Mittel\": {\"5\": \"-16 Tage\"}}, \"info\": \"Tabelle mit den mittleren Beobachtungsterminen und den Abweichungen vom Mittel der Phase \\\\\"Erle: Blüh-Beginn\\\\\" im Gebiet Deutschland für verschiedene Jahre. Positive Abweichungen bedeuten, dass die Phase im entsprechendem Jahr später aufgetreten ist.\"}', name='get_bloom_data_erle', id='8cb2e685-0d20-43b5-8aee-706ab57912dd', tool_call_id='call_ObIOYtFFofzncLn3DySUZlBo'),\n",
       " AIMessage(content='{\\n  \"response\": \"no\",\\n  \"reasoning\": \"Die Daten zeigen den Blühbeginn der Erle im Jahr 2020 in Deutschland. Da der Beobachtungstermin im Mittel am 12. Februar liegt und 16 Tage früher als der Durchschnitt in diesem Jahr war, hat die Erle bereits im Februar geblüht. Da heute der 01. Juni 2020 ist, hat die Erle schon lange zu blühen begonnen. Die Frage bezog sich jedoch auf die Kastanie, nicht die Erle. Daher ist die Antwort für die Kastanie \\'no answer\\', da es keine Informationen zur Kastanie vorliegen.\"\\n}', additional_kwargs={'refusal': None}, response_metadata={'token_usage': {'completion_tokens': 135, 'prompt_tokens': 483, 'total_tokens': 618, 'completion_tokens_details': {'accepted_prediction_tokens': 0, 'audio_tokens': 0, 'reasoning_tokens': 0, 'rejected_prediction_tokens': 0}, 'prompt_tokens_details': {'audio_tokens': 0, 'cached_tokens': 0}}, 'model_name': 'gpt-4.1-mini-2025-04-14', 'system_fingerprint': 'fp_178c8d546f', 'id': 'chatcmpl-BvjOOObPjH9hRGLlcNnzTg3uZV7r5', 'service_tier': None, 'prompt_filter_results': [{'prompt_index': 0, 'content_filter_results': {'hate': {'filtered': False, 'severity': 'safe'}, 'jailbreak': {'filtered': False, 'detected': False}, 'self_harm': {'filtered': False, 'severity': 'safe'}, 'sexual': {'filtered': False, 'severity': 'safe'}, 'violence': {'filtered': False, 'severity': 'safe'}}}], 'finish_reason': 'stop', 'logprobs': None, 'content_filter_results': {'hate': {'filtered': False, 'severity': 'safe'}, 'protected_material_code': {'filtered': False, 'detected': False}, 'protected_material_text': {'filtered': False, 'detected': False}, 'self_harm': {'filtered': False, 'severity': 'safe'}, 'sexual': {'filtered': False, 'severity': 'safe'}, 'violence': {'filtered': False, 'severity': 'safe'}}}, name='erle_agent', id='run--e54350dc-9d1b-4393-a61a-cbb1d042312e-0', usage_metadata={'input_tokens': 483, 'output_tokens': 135, 'total_tokens': 618, 'input_token_details': {'audio': 0, 'cache_read': 0}, 'output_token_details': {'audio': 0, 'reasoning': 0}}),\n",
       " AIMessage(content='Transferring back to supervisor', additional_kwargs={}, response_metadata={'__is_handoff_back': True}, name='erle_agent', id='830430fc-b410-46e5-a323-338085a5afbb', tool_calls=[{'name': 'transfer_back_to_supervisor', 'args': {}, 'id': '1f977688-a75d-475b-b5d6-5268a540e4cf', 'type': 'tool_call'}]),\n",
       " ToolMessage(content='Successfully transferred back to supervisor', name='transfer_back_to_supervisor', id='083bb99d-770d-4271-836f-62b81de6e5d8', tool_call_id='1f977688-a75d-475b-b5d6-5268a540e4cf'),\n",
       " AIMessage(content='', additional_kwargs={'tool_calls': [{'id': 'call_e6c59kkRM1THCzevOWQ6roLA', 'function': {'arguments': '{\"from_agent\":\"no_answer\"}', 'name': 'forward_message'}, 'type': 'function'}], 'refusal': None}, response_metadata={'token_usage': {'completion_tokens': 17, 'prompt_tokens': 821, 'total_tokens': 838, 'completion_tokens_details': {'accepted_prediction_tokens': 0, 'audio_tokens': 0, 'reasoning_tokens': 0, 'rejected_prediction_tokens': 0}, 'prompt_tokens_details': {'audio_tokens': 0, 'cached_tokens': 0}}, 'model_name': 'gpt-4.1-mini-2025-04-14', 'system_fingerprint': 'fp_178c8d546f', 'id': 'chatcmpl-BvjOQ64CNz9SUWn7f8iaBygBdzgIs', 'service_tier': None, 'prompt_filter_results': [{'prompt_index': 0, 'content_filter_results': {'hate': {'filtered': False, 'severity': 'safe'}, 'jailbreak': {'filtered': False, 'detected': False}, 'self_harm': {'filtered': False, 'severity': 'safe'}, 'sexual': {'filtered': False, 'severity': 'safe'}, 'violence': {'filtered': False, 'severity': 'safe'}}}], 'finish_reason': 'tool_calls', 'logprobs': None, 'content_filter_results': {}}, name='supervisor', id='run--89e7a142-c0e3-4bfe-9ddf-ffe334123dbc-0', tool_calls=[{'name': 'forward_message', 'args': {'from_agent': 'no_answer'}, 'id': 'call_e6c59kkRM1THCzevOWQ6roLA', 'type': 'tool_call'}], usage_metadata={'input_tokens': 821, 'output_tokens': 17, 'total_tokens': 838, 'input_token_details': {'audio': 0, 'cache_read': 0}, 'output_token_details': {'audio': 0, 'reasoning': 0}}),\n",
       " ToolMessage(content=\"Could not find message from source agent no_answer. Found names: {'supervisor', 'erle_agent'}\", name='forward_message', id='ebe5ec8f-a915-44a5-a3f6-923e0a958a74', tool_call_id='call_e6c59kkRM1THCzevOWQ6roLA'),\n",
       " AIMessage(content='', additional_kwargs={'tool_calls': [{'id': 'call_eSF9XHOvUEjywxwzNcDHg8fX', 'function': {'arguments': '{\"from_agent\":\"no_answer\"}', 'name': 'forward_message'}, 'type': 'function'}], 'refusal': None}, response_metadata={'token_usage': {'completion_tokens': 17, 'prompt_tokens': 870, 'total_tokens': 887, 'completion_tokens_details': {'accepted_prediction_tokens': 0, 'audio_tokens': 0, 'reasoning_tokens': 0, 'rejected_prediction_tokens': 0}, 'prompt_tokens_details': {'audio_tokens': 0, 'cached_tokens': 0}}, 'model_name': 'gpt-4.1-mini-2025-04-14', 'system_fingerprint': 'fp_178c8d546f', 'id': 'chatcmpl-BvjOQctWgs6Hd9NKlSyqfnPqwXGhS', 'service_tier': None, 'prompt_filter_results': [{'prompt_index': 0, 'content_filter_results': {'hate': {'filtered': False, 'severity': 'safe'}, 'jailbreak': {'filtered': False, 'detected': False}, 'self_harm': {'filtered': False, 'severity': 'safe'}, 'sexual': {'filtered': False, 'severity': 'safe'}, 'violence': {'filtered': False, 'severity': 'safe'}}}], 'finish_reason': 'tool_calls', 'logprobs': None, 'content_filter_results': {}}, name='supervisor', id='run--b1d58978-4d97-42d7-8f46-5ca7431a0b5e-0', tool_calls=[{'name': 'forward_message', 'args': {'from_agent': 'no_answer'}, 'id': 'call_eSF9XHOvUEjywxwzNcDHg8fX', 'type': 'tool_call'}], usage_metadata={'input_tokens': 870, 'output_tokens': 17, 'total_tokens': 887, 'input_token_details': {'audio': 0, 'cache_read': 0}, 'output_token_details': {'audio': 0, 'reasoning': 0}}),\n",
       " ToolMessage(content=\"Could not find message from source agent no_answer. Found names: {'supervisor', 'erle_agent'}\", name='forward_message', id='a93763df-aee4-4ba6-b7f6-26a30bb9004c', tool_call_id='call_eSF9XHOvUEjywxwzNcDHg8fX'),\n",
       " AIMessage(content='', additional_kwargs={'tool_calls': [{'id': 'call_uu4yzEGd2lajmRkjJ3PoYHSr', 'function': {'arguments': '{}', 'name': 'transfer_to_hasel_agent'}, 'type': 'function'}], 'refusal': None}, response_metadata={'token_usage': {'completion_tokens': 14, 'prompt_tokens': 919, 'total_tokens': 933, 'completion_tokens_details': {'accepted_prediction_tokens': 0, 'audio_tokens': 0, 'reasoning_tokens': 0, 'rejected_prediction_tokens': 0}, 'prompt_tokens_details': {'audio_tokens': 0, 'cached_tokens': 0}}, 'model_name': 'gpt-4.1-mini-2025-04-14', 'system_fingerprint': 'fp_178c8d546f', 'id': 'chatcmpl-BvjORG6nOGlxc6Y7Nsrj34U9jQf5j', 'service_tier': None, 'prompt_filter_results': [{'prompt_index': 0, 'content_filter_results': {'hate': {'filtered': False, 'severity': 'safe'}, 'jailbreak': {'filtered': False, 'detected': False}, 'self_harm': {'filtered': False, 'severity': 'safe'}, 'sexual': {'filtered': False, 'severity': 'safe'}, 'violence': {'filtered': False, 'severity': 'safe'}}}], 'finish_reason': 'tool_calls', 'logprobs': None, 'content_filter_results': {}}, name='supervisor', id='run--4bf8a069-a431-40e1-b31f-914b6689c8ce-0', tool_calls=[{'name': 'transfer_to_hasel_agent', 'args': {}, 'id': 'call_uu4yzEGd2lajmRkjJ3PoYHSr', 'type': 'tool_call'}], usage_metadata={'input_tokens': 919, 'output_tokens': 14, 'total_tokens': 933, 'input_token_details': {'audio': 0, 'cache_read': 0}, 'output_token_details': {'audio': 0, 'reasoning': 0}}),\n",
       " ToolMessage(content='Successfully transferred to hasel_agent', name='transfer_to_hasel_agent', id='fd5f4190-e689-4857-963c-aa64557beeae', tool_call_id='call_uu4yzEGd2lajmRkjJ3PoYHSr'),\n",
       " AIMessage(content='', additional_kwargs={'tool_calls': [{'id': 'call_quIVZBRSDGzbuRdIpFeHo8P0', 'function': {'arguments': '{\"year\":2020}', 'name': 'get_bloom_data_hasel'}, 'type': 'function'}], 'refusal': None}, response_metadata={'token_usage': {'completion_tokens': 20, 'prompt_tokens': 802, 'total_tokens': 822, 'completion_tokens_details': {'accepted_prediction_tokens': 0, 'audio_tokens': 0, 'reasoning_tokens': 0, 'rejected_prediction_tokens': 0}, 'prompt_tokens_details': {'audio_tokens': 0, 'cached_tokens': 0}}, 'model_name': 'gpt-4.1-mini-2025-04-14', 'system_fingerprint': 'fp_178c8d546f', 'id': 'chatcmpl-BvjORsJaMdNjQXW3VBObOILYg2gdl', 'service_tier': None, 'prompt_filter_results': [{'prompt_index': 0, 'content_filter_results': {'hate': {'filtered': False, 'severity': 'safe'}, 'jailbreak': {'filtered': False, 'detected': False}, 'self_harm': {'filtered': False, 'severity': 'safe'}, 'sexual': {'filtered': False, 'severity': 'safe'}, 'violence': {'filtered': False, 'severity': 'safe'}}}], 'finish_reason': 'tool_calls', 'logprobs': None, 'content_filter_results': {}}, name='hasel_agent', id='run--d43ea393-4fe2-4562-ae95-a8cc87747eb2-0', tool_calls=[{'name': 'get_bloom_data_hasel', 'args': {'year': 2020}, 'id': 'call_quIVZBRSDGzbuRdIpFeHo8P0', 'type': 'tool_call'}], usage_metadata={'input_tokens': 802, 'output_tokens': 20, 'total_tokens': 822, 'input_token_details': {'audio': 0, 'cache_read': 0}, 'output_token_details': {'audio': 0, 'reasoning': 0}}),\n",
       " ToolMessage(content='{\"data\": {\"Jahr\": {\"5\": 2020}, \"Gebietsmittel\": {\"5\": \"22.01. \"}, \"Abweichung vom Mittel\": {\"5\": \"-17 Tage\"}}, \"info\": \"Tabelle mit den mittleren Beobachtungsterminen und den Abweichungen vom Mittel der Phase \\\\\"Hasel: Blüh-Beginn\\\\\" im Gebiet Deutschland für verschiedene Jahre. Positive Abweichungen bedeuten, dass die Phase im entsprechendem Jahr später aufgetreten ist.\\\\n\\\\n© Deutscher Wetterdienst, erstellt 24.05.2025 01:31 UTC. Alle Angaben ohne Gewähr!\"}', name='get_bloom_data_hasel', id='a4da183a-051e-4357-a681-4627414278ce', tool_call_id='call_quIVZBRSDGzbuRdIpFeHo8P0'),\n",
       " AIMessage(content='{\\n  \"response\": \"no\",\\n  \"reasoning\": \"Die Hasel begann im Jahr 2020 im Gebiet Deutschland durchschnittlich am 22. Januar zu blühen und trat 17 Tage früher auf als der Mittelwert. Da heute der 1. Juni 2020 ist, ist die Hasel bereits seit einiger Zeit vorbei mit der Blüte. Daher hat die Hasel am 01.06.2020 nicht mehr angefangen zu blühen.\"\\n}', additional_kwargs={'refusal': None}, response_metadata={'token_usage': {'completion_tokens': 99, 'prompt_tokens': 972, 'total_tokens': 1071, 'completion_tokens_details': {'accepted_prediction_tokens': 0, 'audio_tokens': 0, 'reasoning_tokens': 0, 'rejected_prediction_tokens': 0}, 'prompt_tokens_details': {'audio_tokens': 0, 'cached_tokens': 0}}, 'model_name': 'gpt-4.1-mini-2025-04-14', 'system_fingerprint': 'fp_178c8d546f', 'id': 'chatcmpl-BvjOSXJVbBf7xuzm0ZMRZATspiop6', 'service_tier': None, 'prompt_filter_results': [{'prompt_index': 0, 'content_filter_results': {'hate': {'filtered': False, 'severity': 'safe'}, 'jailbreak': {'filtered': False, 'detected': False}, 'self_harm': {'filtered': False, 'severity': 'safe'}, 'sexual': {'filtered': False, 'severity': 'safe'}, 'violence': {'filtered': False, 'severity': 'safe'}}}], 'finish_reason': 'stop', 'logprobs': None, 'content_filter_results': {'hate': {'filtered': False, 'severity': 'safe'}, 'protected_material_code': {'filtered': False, 'detected': False}, 'protected_material_text': {'filtered': False, 'detected': False}, 'self_harm': {'filtered': False, 'severity': 'safe'}, 'sexual': {'filtered': False, 'severity': 'safe'}, 'violence': {'filtered': False, 'severity': 'safe'}}}, name='hasel_agent', id='run--c7f6cc64-f3b9-456e-9118-ea0ab7137301-0', usage_metadata={'input_tokens': 972, 'output_tokens': 99, 'total_tokens': 1071, 'input_token_details': {'audio': 0, 'cache_read': 0}, 'output_token_details': {'audio': 0, 'reasoning': 0}}),\n",
       " AIMessage(content='Transferring back to supervisor', additional_kwargs={}, response_metadata={'__is_handoff_back': True}, name='hasel_agent', id='bbb8df24-95d8-4a05-b2b4-ffb67127e4d2', tool_calls=[{'name': 'transfer_back_to_supervisor', 'args': {}, 'id': 'eb8c330d-4902-4aba-bcbe-5fc52a741a13', 'type': 'tool_call'}]),\n",
       " ToolMessage(content='Successfully transferred back to supervisor', name='transfer_back_to_supervisor', id='db5b5d30-bbc6-4b91-9eb5-73a8a6e00897', tool_call_id='eb8c330d-4902-4aba-bcbe-5fc52a741a13'),\n",
       " AIMessage(content='', additional_kwargs={'tool_calls': [{'id': 'call_J3GFDDDhUTip9CQWBWZmlhBX', 'function': {'arguments': '{}', 'name': 'transfer_to_birke_agent'}, 'type': 'function'}], 'refusal': None}, response_metadata={'token_usage': {'completion_tokens': 15, 'prompt_tokens': 1274, 'total_tokens': 1289, 'completion_tokens_details': {'accepted_prediction_tokens': 0, 'audio_tokens': 0, 'reasoning_tokens': 0, 'rejected_prediction_tokens': 0}, 'prompt_tokens_details': {'audio_tokens': 0, 'cached_tokens': 0}}, 'model_name': 'gpt-4.1-mini-2025-04-14', 'system_fingerprint': 'fp_178c8d546f', 'id': 'chatcmpl-BvjOTx4tq84XBk606xYWaaJP0tJMR', 'service_tier': None, 'prompt_filter_results': [{'prompt_index': 0, 'content_filter_results': {'hate': {'filtered': False, 'severity': 'safe'}, 'jailbreak': {'filtered': False, 'detected': False}, 'self_harm': {'filtered': False, 'severity': 'safe'}, 'sexual': {'filtered': False, 'severity': 'safe'}, 'violence': {'filtered': False, 'severity': 'safe'}}}], 'finish_reason': 'tool_calls', 'logprobs': None, 'content_filter_results': {}}, name='supervisor', id='run--7f08bd90-c5c6-43d5-9678-4b2295598ed1-0', tool_calls=[{'name': 'transfer_to_birke_agent', 'args': {}, 'id': 'call_J3GFDDDhUTip9CQWBWZmlhBX', 'type': 'tool_call'}], usage_metadata={'input_tokens': 1274, 'output_tokens': 15, 'total_tokens': 1289, 'input_token_details': {'audio': 0, 'cache_read': 0}, 'output_token_details': {'audio': 0, 'reasoning': 0}}),\n",
       " ToolMessage(content='Successfully transferred to birke_agent', name='transfer_to_birke_agent', id='32cdb78f-7fd7-4af4-82c8-3b1e3ac49e52', tool_call_id='call_J3GFDDDhUTip9CQWBWZmlhBX'),\n",
       " AIMessage(content='', additional_kwargs={'tool_calls': [{'id': 'call_MY7er9ljD36YOBG4nQr5KTpT', 'function': {'arguments': '{\"year\":2020}', 'name': 'get_bloom_data_birke'}, 'type': 'function'}], 'refusal': None}, response_metadata={'token_usage': {'completion_tokens': 21, 'prompt_tokens': 1160, 'total_tokens': 1181, 'completion_tokens_details': {'accepted_prediction_tokens': 0, 'audio_tokens': 0, 'reasoning_tokens': 0, 'rejected_prediction_tokens': 0}, 'prompt_tokens_details': {'audio_tokens': 0, 'cached_tokens': 0}}, 'model_name': 'gpt-4.1-mini-2025-04-14', 'system_fingerprint': 'fp_178c8d546f', 'id': 'chatcmpl-BvjOU1OKKBPNdcoSlNi8Ovx3BGja9', 'service_tier': None, 'prompt_filter_results': [{'prompt_index': 0, 'content_filter_results': {'hate': {'filtered': False, 'severity': 'safe'}, 'jailbreak': {'filtered': False, 'detected': False}, 'self_harm': {'filtered': False, 'severity': 'safe'}, 'sexual': {'filtered': False, 'severity': 'safe'}, 'violence': {'filtered': False, 'severity': 'safe'}}}], 'finish_reason': 'tool_calls', 'logprobs': None, 'content_filter_results': {}}, name='birke_agent', id='run--a7028cd7-59c3-4d29-9c61-3f80c454b767-0', tool_calls=[{'name': 'get_bloom_data_birke', 'args': {'year': 2020}, 'id': 'call_MY7er9ljD36YOBG4nQr5KTpT', 'type': 'tool_call'}], usage_metadata={'input_tokens': 1160, 'output_tokens': 21, 'total_tokens': 1181, 'input_token_details': {'audio': 0, 'cache_read': 0}, 'output_token_details': {'audio': 0, 'reasoning': 0}}),\n",
       " ToolMessage(content='{\"data\": {\"Jahr\": {\"5\": 2020}, \"Gebietsmittel\": {\"5\": \"06.04. \"}, \"Abweichung vom Mittel\": {\"5\": \"-8 Tage\"}}, \"info\": \"Tabelle mit den mittleren Beobachtungsterminen und den Abweichungen vom Mittel der Phase \\\\\"Birke: Blüh-Beginn\\\\\" im Gebiet Deutschland für verschiedene Jahre. Positive Abweichungen bedeuten, dass die Phase im entsprechendem Jahr später aufgetreten ist.\\\\n\\\\n© Deutscher Wetterdienst, erstellt 20.05.2025 01:33 UTC. Alle Angaben ohne Gewähr!\"}', name='get_bloom_data_birke', id='688a218c-8d28-4549-8dba-7dd6edac1216', tool_call_id='call_MY7er9ljD36YOBG4nQr5KTpT'),\n",
       " AIMessage(content='{\\n  \"response\": \"yes\",\\n  \"reasoning\": \"Die Birke begann im Jahr 2020 im Gebiet Deutschland durchschnittlich am 6. April zu blühen, was 8 Tage früher als der Mittelwert war. Da heute der 1. Juni 2020 ist, hat die Birke bereits vor diesem Datum angefangen zu blühen.\"\\n}', additional_kwargs={'refusal': None}, response_metadata={'token_usage': {'completion_tokens': 78, 'prompt_tokens': 1332, 'total_tokens': 1410, 'completion_tokens_details': {'accepted_prediction_tokens': 0, 'audio_tokens': 0, 'reasoning_tokens': 0, 'rejected_prediction_tokens': 0}, 'prompt_tokens_details': {'audio_tokens': 0, 'cached_tokens': 0}}, 'model_name': 'gpt-4.1-mini-2025-04-14', 'system_fingerprint': 'fp_178c8d546f', 'id': 'chatcmpl-BvjOVjNhNjGit7qZ7VdedWQ702kYd', 'service_tier': None, 'prompt_filter_results': [{'prompt_index': 0, 'content_filter_results': {'hate': {'filtered': False, 'severity': 'safe'}, 'jailbreak': {'filtered': False, 'detected': False}, 'self_harm': {'filtered': False, 'severity': 'safe'}, 'sexual': {'filtered': False, 'severity': 'safe'}, 'violence': {'filtered': False, 'severity': 'safe'}}}], 'finish_reason': 'stop', 'logprobs': None, 'content_filter_results': {'hate': {'filtered': False, 'severity': 'safe'}, 'self_harm': {'filtered': False, 'severity': 'safe'}, 'sexual': {'filtered': False, 'severity': 'safe'}, 'violence': {'filtered': False, 'severity': 'safe'}}}, name='birke_agent', id='run--8242f001-1f42-4780-bb1d-7794ad80f8ad-0', usage_metadata={'input_tokens': 1332, 'output_tokens': 78, 'total_tokens': 1410, 'input_token_details': {'audio': 0, 'cache_read': 0}, 'output_token_details': {'audio': 0, 'reasoning': 0}}),\n",
       " AIMessage(content='Transferring back to supervisor', additional_kwargs={}, response_metadata={'__is_handoff_back': True}, name='birke_agent', id='d658c41f-e02e-4d0a-964f-03a1941b2371', tool_calls=[{'name': 'transfer_back_to_supervisor', 'args': {}, 'id': 'cda82bde-0027-4dba-b1f0-6e435cd7d2ed', 'type': 'tool_call'}]),\n",
       " ToolMessage(content='Successfully transferred back to supervisor', name='transfer_back_to_supervisor', id='93e5bfb1-65ef-408c-9f2b-afdd633a9b79', tool_call_id='cda82bde-0027-4dba-b1f0-6e435cd7d2ed'),\n",
       " AIMessage(content='', additional_kwargs={'tool_calls': [{'id': 'call_WL0ZaMiIJZ1QzEYH4S0P5WaM', 'function': {'arguments': '{\"from_agent\":\"no_answer\"}', 'name': 'forward_message'}, 'type': 'function'}], 'refusal': None}, response_metadata={'token_usage': {'completion_tokens': 17, 'prompt_tokens': 1612, 'total_tokens': 1629, 'completion_tokens_details': {'accepted_prediction_tokens': 0, 'audio_tokens': 0, 'reasoning_tokens': 0, 'rejected_prediction_tokens': 0}, 'prompt_tokens_details': {'audio_tokens': 0, 'cached_tokens': 0}}, 'model_name': 'gpt-4.1-mini-2025-04-14', 'system_fingerprint': 'fp_178c8d546f', 'id': 'chatcmpl-BvjOXCrm0LeLrXvTf6Yf2bGPvblmI', 'service_tier': None, 'prompt_filter_results': [{'prompt_index': 0, 'content_filter_results': {'hate': {'filtered': False, 'severity': 'safe'}, 'jailbreak': {'filtered': False, 'detected': False}, 'self_harm': {'filtered': False, 'severity': 'safe'}, 'sexual': {'filtered': False, 'severity': 'safe'}, 'violence': {'filtered': False, 'severity': 'safe'}}}], 'finish_reason': 'tool_calls', 'logprobs': None, 'content_filter_results': {}}, name='supervisor', id='run--e65028cd-1387-4b29-8847-6337a870b2f2-0', tool_calls=[{'name': 'forward_message', 'args': {'from_agent': 'no_answer'}, 'id': 'call_WL0ZaMiIJZ1QzEYH4S0P5WaM', 'type': 'tool_call'}], usage_metadata={'input_tokens': 1612, 'output_tokens': 17, 'total_tokens': 1629, 'input_token_details': {'audio': 0, 'cache_read': 0}, 'output_token_details': {'audio': 0, 'reasoning': 0}}),\n",
       " ToolMessage(content=\"Could not find message from source agent no_answer. Found names: {'supervisor', 'birke_agent', 'hasel_agent', 'erle_agent'}\", name='forward_message', id='42e51171-2576-44ef-b6f7-393984032b68', tool_call_id='call_WL0ZaMiIJZ1QzEYH4S0P5WaM'),\n",
       " AIMessage(content='{\"response\":\"no answer\",\"reasoning\":\"Kein passender Spezialist für Kastanie verfügbar, daher keine verlässliche Information zur Blüte der Kastanie am 01.06.2020 in Berlin.\"}', additional_kwargs={'refusal': None}, response_metadata={'token_usage': {'completion_tokens': 46, 'prompt_tokens': 1671, 'total_tokens': 1717, 'completion_tokens_details': {'accepted_prediction_tokens': 0, 'audio_tokens': 0, 'reasoning_tokens': 0, 'rejected_prediction_tokens': 0}, 'prompt_tokens_details': {'audio_tokens': 0, 'cached_tokens': 0}}, 'model_name': 'gpt-4.1-mini-2025-04-14', 'system_fingerprint': 'fp_178c8d546f', 'id': 'chatcmpl-BvjOYtHF9dWVK7xawznSsTv16aPf1', 'service_tier': None, 'prompt_filter_results': [{'prompt_index': 0, 'content_filter_results': {'hate': {'filtered': False, 'severity': 'safe'}, 'jailbreak': {'filtered': False, 'detected': False}, 'self_harm': {'filtered': False, 'severity': 'safe'}, 'sexual': {'filtered': False, 'severity': 'safe'}, 'violence': {'filtered': False, 'severity': 'safe'}}}], 'finish_reason': 'stop', 'logprobs': None, 'content_filter_results': {'hate': {'filtered': False, 'severity': 'safe'}, 'self_harm': {'filtered': False, 'severity': 'safe'}, 'sexual': {'filtered': False, 'severity': 'safe'}, 'violence': {'filtered': False, 'severity': 'safe'}}}, name='supervisor', id='run--544154be-ea1f-4d48-9de1-a136ea81d115-0', usage_metadata={'input_tokens': 1671, 'output_tokens': 46, 'total_tokens': 1717, 'input_token_details': {'audio': 0, 'cache_read': 0}, 'output_token_details': {'audio': 0, 'reasoning': 0}})]"
      ]
     },
     "execution_count": 96,
     "metadata": {},
     "output_type": "execute_result"
    }
   ],
   "source": [
    "messages[\"messages\"]"
   ]
  }
 ],
 "metadata": {
  "kernelspec": {
   "display_name": ".ocits-venv",
   "language": "python",
   "name": "python3"
  },
  "language_info": {
   "codemirror_mode": {
    "name": "ipython",
    "version": 3
   },
   "file_extension": ".py",
   "mimetype": "text/x-python",
   "name": "python",
   "nbconvert_exporter": "python",
   "pygments_lexer": "ipython3",
   "version": "3.12.10"
  }
 },
 "nbformat": 4,
 "nbformat_minor": 2
}
